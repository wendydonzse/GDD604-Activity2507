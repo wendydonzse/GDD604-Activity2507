{
 "cells": [
  {
   "cell_type": "code",
   "execution_count": 64,
   "id": "8433068b",
   "metadata": {},
   "outputs": [],
   "source": [
    "import pandas as pd\n",
    "\n",
    "# Create a DataFrame\n",
    "data = {\n",
    "      'StudentName': ['Mark', 'Ali', 'Bob', 'John', 'Johny', 'Mark'],\n",
    "      'Score': [45, 65, 76, 44, 39, 45]\n",
    "}\n"
   ]
  },
  {
   "cell_type": "code",
   "execution_count": 65,
   "id": "fd2b7c97",
   "metadata": {},
   "outputs": [
    {
     "data": {
      "text/plain": [
       "dict"
      ]
     },
     "execution_count": 65,
     "metadata": {},
     "output_type": "execute_result"
    }
   ],
   "source": [
    "type(data)"
   ]
  },
  {
   "cell_type": "code",
   "execution_count": 66,
   "id": "e337c930",
   "metadata": {},
   "outputs": [],
   "source": [
    "df = pd.DataFrame(data)"
   ]
  },
  {
   "cell_type": "code",
   "execution_count": 67,
   "id": "f0ab324a",
   "metadata": {},
   "outputs": [
    {
     "data": {
      "text/html": [
       "<div>\n",
       "<style scoped>\n",
       "    .dataframe tbody tr th:only-of-type {\n",
       "        vertical-align: middle;\n",
       "    }\n",
       "\n",
       "    .dataframe tbody tr th {\n",
       "        vertical-align: top;\n",
       "    }\n",
       "\n",
       "    .dataframe thead th {\n",
       "        text-align: right;\n",
       "    }\n",
       "</style>\n",
       "<table border=\"1\" class=\"dataframe\">\n",
       "  <thead>\n",
       "    <tr style=\"text-align: right;\">\n",
       "      <th></th>\n",
       "      <th>StudentName</th>\n",
       "      <th>Score</th>\n",
       "    </tr>\n",
       "  </thead>\n",
       "  <tbody>\n",
       "    <tr>\n",
       "      <th>0</th>\n",
       "      <td>Mark</td>\n",
       "      <td>45</td>\n",
       "    </tr>\n",
       "    <tr>\n",
       "      <th>1</th>\n",
       "      <td>Ali</td>\n",
       "      <td>65</td>\n",
       "    </tr>\n",
       "    <tr>\n",
       "      <th>2</th>\n",
       "      <td>Bob</td>\n",
       "      <td>76</td>\n",
       "    </tr>\n",
       "    <tr>\n",
       "      <th>3</th>\n",
       "      <td>John</td>\n",
       "      <td>44</td>\n",
       "    </tr>\n",
       "    <tr>\n",
       "      <th>4</th>\n",
       "      <td>Johny</td>\n",
       "      <td>39</td>\n",
       "    </tr>\n",
       "    <tr>\n",
       "      <th>5</th>\n",
       "      <td>Mark</td>\n",
       "      <td>45</td>\n",
       "    </tr>\n",
       "  </tbody>\n",
       "</table>\n",
       "</div>"
      ],
      "text/plain": [
       "  StudentName  Score\n",
       "0        Mark     45\n",
       "1         Ali     65\n",
       "2         Bob     76\n",
       "3        John     44\n",
       "4       Johny     39\n",
       "5        Mark     45"
      ]
     },
     "execution_count": 67,
     "metadata": {},
     "output_type": "execute_result"
    }
   ],
   "source": [
    "df"
   ]
  },
  {
   "cell_type": "code",
   "execution_count": 68,
   "id": "c1c25d99",
   "metadata": {},
   "outputs": [
    {
     "data": {
      "text/html": [
       "<div>\n",
       "<style scoped>\n",
       "    .dataframe tbody tr th:only-of-type {\n",
       "        vertical-align: middle;\n",
       "    }\n",
       "\n",
       "    .dataframe tbody tr th {\n",
       "        vertical-align: top;\n",
       "    }\n",
       "\n",
       "    .dataframe thead th {\n",
       "        text-align: right;\n",
       "    }\n",
       "</style>\n",
       "<table border=\"1\" class=\"dataframe\">\n",
       "  <thead>\n",
       "    <tr style=\"text-align: right;\">\n",
       "      <th></th>\n",
       "      <th>StudentName</th>\n",
       "      <th>Score</th>\n",
       "    </tr>\n",
       "  </thead>\n",
       "  <tbody>\n",
       "    <tr>\n",
       "      <th>0</th>\n",
       "      <td>Mark</td>\n",
       "      <td>45</td>\n",
       "    </tr>\n",
       "    <tr>\n",
       "      <th>1</th>\n",
       "      <td>Ali</td>\n",
       "      <td>65</td>\n",
       "    </tr>\n",
       "    <tr>\n",
       "      <th>2</th>\n",
       "      <td>Bob</td>\n",
       "      <td>76</td>\n",
       "    </tr>\n",
       "    <tr>\n",
       "      <th>3</th>\n",
       "      <td>John</td>\n",
       "      <td>44</td>\n",
       "    </tr>\n",
       "    <tr>\n",
       "      <th>4</th>\n",
       "      <td>Johny</td>\n",
       "      <td>39</td>\n",
       "    </tr>\n",
       "  </tbody>\n",
       "</table>\n",
       "</div>"
      ],
      "text/plain": [
       "  StudentName  Score\n",
       "0        Mark     45\n",
       "1         Ali     65\n",
       "2         Bob     76\n",
       "3        John     44\n",
       "4       Johny     39"
      ]
     },
     "execution_count": 68,
     "metadata": {},
     "output_type": "execute_result"
    }
   ],
   "source": [
    "df.head()"
   ]
  },
  {
   "cell_type": "code",
   "execution_count": 69,
   "id": "94181aad",
   "metadata": {},
   "outputs": [
    {
     "data": {
      "text/html": [
       "<div>\n",
       "<style scoped>\n",
       "    .dataframe tbody tr th:only-of-type {\n",
       "        vertical-align: middle;\n",
       "    }\n",
       "\n",
       "    .dataframe tbody tr th {\n",
       "        vertical-align: top;\n",
       "    }\n",
       "\n",
       "    .dataframe thead th {\n",
       "        text-align: right;\n",
       "    }\n",
       "</style>\n",
       "<table border=\"1\" class=\"dataframe\">\n",
       "  <thead>\n",
       "    <tr style=\"text-align: right;\">\n",
       "      <th></th>\n",
       "      <th>StudentName</th>\n",
       "      <th>Score</th>\n",
       "    </tr>\n",
       "  </thead>\n",
       "  <tbody>\n",
       "    <tr>\n",
       "      <th>1</th>\n",
       "      <td>Ali</td>\n",
       "      <td>65</td>\n",
       "    </tr>\n",
       "    <tr>\n",
       "      <th>2</th>\n",
       "      <td>Bob</td>\n",
       "      <td>76</td>\n",
       "    </tr>\n",
       "    <tr>\n",
       "      <th>3</th>\n",
       "      <td>John</td>\n",
       "      <td>44</td>\n",
       "    </tr>\n",
       "    <tr>\n",
       "      <th>4</th>\n",
       "      <td>Johny</td>\n",
       "      <td>39</td>\n",
       "    </tr>\n",
       "    <tr>\n",
       "      <th>5</th>\n",
       "      <td>Mark</td>\n",
       "      <td>45</td>\n",
       "    </tr>\n",
       "  </tbody>\n",
       "</table>\n",
       "</div>"
      ],
      "text/plain": [
       "  StudentName  Score\n",
       "1         Ali     65\n",
       "2         Bob     76\n",
       "3        John     44\n",
       "4       Johny     39\n",
       "5        Mark     45"
      ]
     },
     "execution_count": 69,
     "metadata": {},
     "output_type": "execute_result"
    }
   ],
   "source": [
    "df.tail()"
   ]
  },
  {
   "cell_type": "code",
   "execution_count": 70,
   "id": "787dfc79",
   "metadata": {},
   "outputs": [
    {
     "data": {
      "text/plain": [
       "0    False\n",
       "1    False\n",
       "2    False\n",
       "3    False\n",
       "4    False\n",
       "5     True\n",
       "dtype: bool"
      ]
     },
     "execution_count": 70,
     "metadata": {},
     "output_type": "execute_result"
    }
   ],
   "source": [
    "# Check for duplicate rows\n",
    "df_duplicates = df.duplicated()\n",
    "df_duplicates"
   ]
  },
  {
   "cell_type": "code",
   "execution_count": 9,
   "id": "4c3d860e",
   "metadata": {},
   "outputs": [
    {
     "data": {
      "text/html": [
       "<div>\n",
       "<style scoped>\n",
       "    .dataframe tbody tr th:only-of-type {\n",
       "        vertical-align: middle;\n",
       "    }\n",
       "\n",
       "    .dataframe tbody tr th {\n",
       "        vertical-align: top;\n",
       "    }\n",
       "\n",
       "    .dataframe thead th {\n",
       "        text-align: right;\n",
       "    }\n",
       "</style>\n",
       "<table border=\"1\" class=\"dataframe\">\n",
       "  <thead>\n",
       "    <tr style=\"text-align: right;\">\n",
       "      <th></th>\n",
       "      <th>StudentName</th>\n",
       "      <th>Score</th>\n",
       "    </tr>\n",
       "  </thead>\n",
       "  <tbody>\n",
       "    <tr>\n",
       "      <th>0</th>\n",
       "      <td>Mark</td>\n",
       "      <td>45</td>\n",
       "    </tr>\n",
       "    <tr>\n",
       "      <th>1</th>\n",
       "      <td>Ali</td>\n",
       "      <td>65</td>\n",
       "    </tr>\n",
       "    <tr>\n",
       "      <th>2</th>\n",
       "      <td>Bob</td>\n",
       "      <td>76</td>\n",
       "    </tr>\n",
       "    <tr>\n",
       "      <th>3</th>\n",
       "      <td>John</td>\n",
       "      <td>44</td>\n",
       "    </tr>\n",
       "    <tr>\n",
       "      <th>4</th>\n",
       "      <td>Johny</td>\n",
       "      <td>39</td>\n",
       "    </tr>\n",
       "    <tr>\n",
       "      <th>5</th>\n",
       "      <td>Mark</td>\n",
       "      <td>45</td>\n",
       "    </tr>\n",
       "  </tbody>\n",
       "</table>\n",
       "</div>"
      ],
      "text/plain": [
       "  StudentName  Score\n",
       "0        Mark     45\n",
       "1         Ali     65\n",
       "2         Bob     76\n",
       "3        John     44\n",
       "4       Johny     39\n",
       "5        Mark     45"
      ]
     },
     "execution_count": 9,
     "metadata": {},
     "output_type": "execute_result"
    }
   ],
   "source": [
    "df"
   ]
  },
  {
   "cell_type": "code",
   "execution_count": 10,
   "id": "9757d1d0",
   "metadata": {},
   "outputs": [],
   "source": [
    "df_duplicates_SN = df.duplicated(subset=['StudentName'])"
   ]
  },
  {
   "cell_type": "code",
   "execution_count": 53,
   "id": "6ff3265f",
   "metadata": {},
   "outputs": [
    {
     "data": {
      "text/plain": [
       "0    False\n",
       "1    False\n",
       "2    False\n",
       "3    False\n",
       "4    False\n",
       "5     True\n",
       "dtype: bool"
      ]
     },
     "execution_count": 53,
     "metadata": {},
     "output_type": "execute_result"
    }
   ],
   "source": [
    "df_duplicates_SN"
   ]
  },
  {
   "cell_type": "code",
   "execution_count": 11,
   "id": "db1f543b",
   "metadata": {},
   "outputs": [
    {
     "name": "stdout",
     "output_type": "stream",
     "text": [
      "0    False\n",
      "1    False\n",
      "2    False\n",
      "3    False\n",
      "4    False\n",
      "5     True\n",
      "dtype: bool\n"
     ]
    }
   ],
   "source": [
    "df_duplicates_Score = df.duplicated(subset=['Score'])\n",
    "print(df_duplicates_Score)"
   ]
  },
  {
   "cell_type": "code",
   "execution_count": 12,
   "id": "c2c4b582",
   "metadata": {},
   "outputs": [
    {
     "name": "stdout",
     "output_type": "stream",
     "text": [
      "0     True\n",
      "1    False\n",
      "2    False\n",
      "3    False\n",
      "4    False\n",
      "5    False\n",
      "dtype: bool\n"
     ]
    }
   ],
   "source": [
    "# Check for duplicate rows\n",
    "df_duplicates = df.duplicated(keep='last')\n",
    "print(df_duplicates)"
   ]
  },
  {
   "cell_type": "code",
   "execution_count": 13,
   "id": "9c464a3d",
   "metadata": {},
   "outputs": [
    {
     "name": "stdout",
     "output_type": "stream",
     "text": [
      "StudentName\n",
      "Mark     2\n",
      "Ali      1\n",
      "Bob      1\n",
      "John     1\n",
      "Johny    1\n",
      "Name: count, dtype: int64\n"
     ]
    }
   ],
   "source": [
    "name_counts = df['StudentName'].value_counts()\n",
    "print(name_counts)"
   ]
  },
  {
   "cell_type": "code",
   "execution_count": 14,
   "id": "b4af8493",
   "metadata": {},
   "outputs": [
    {
     "data": {
      "image/png": "[encoded data removed]",
      "text/plain": [
       "<Figure size 640x480 with 1 Axes>"
      ]
     },
     "metadata": {},
     "output_type": "display_data"
    }
   ],
   "source": [
    "import matplotlib.pyplot as plt\n",
    "# Create a bar plot of Student name frequencies\n",
    "name_counts.plot(kind='bar')\n",
    "plt.xlabel('Student Name')\n",
    "plt.ylabel('Frequency')\n",
    "plt.title('Duplicate Name Frequencies')\n",
    "plt.show()"
   ]
  },
  {
   "cell_type": "code",
   "execution_count": 15,
   "id": "94e4797c",
   "metadata": {},
   "outputs": [
    {
     "name": "stdout",
     "output_type": "stream",
     "text": [
      "  StudentName  Score\n",
      "1         Ali     65\n",
      "2         Bob     76\n",
      "3        John     44\n",
      "4       Johny     39\n",
      "5        Mark     45\n"
     ]
    }
   ],
   "source": [
    "# Remove duplicate rows\n",
    "df.drop_duplicates(keep='last', inplace=True)\n",
    "print(df)"
   ]
  },
  {
   "cell_type": "code",
   "execution_count": 16,
   "id": "0dca70b8",
   "metadata": {},
   "outputs": [
    {
     "data": {
      "text/html": [
       "<div>\n",
       "<style scoped>\n",
       "    .dataframe tbody tr th:only-of-type {\n",
       "        vertical-align: middle;\n",
       "    }\n",
       "\n",
       "    .dataframe tbody tr th {\n",
       "        vertical-align: top;\n",
       "    }\n",
       "\n",
       "    .dataframe thead th {\n",
       "        text-align: right;\n",
       "    }\n",
       "</style>\n",
       "<table border=\"1\" class=\"dataframe\">\n",
       "  <thead>\n",
       "    <tr style=\"text-align: right;\">\n",
       "      <th></th>\n",
       "      <th>StudentName</th>\n",
       "      <th>Score</th>\n",
       "    </tr>\n",
       "  </thead>\n",
       "  <tbody>\n",
       "    <tr>\n",
       "      <th>1</th>\n",
       "      <td>Ali</td>\n",
       "      <td>65</td>\n",
       "    </tr>\n",
       "    <tr>\n",
       "      <th>2</th>\n",
       "      <td>Bob</td>\n",
       "      <td>76</td>\n",
       "    </tr>\n",
       "    <tr>\n",
       "      <th>3</th>\n",
       "      <td>John</td>\n",
       "      <td>44</td>\n",
       "    </tr>\n",
       "    <tr>\n",
       "      <th>4</th>\n",
       "      <td>Johny</td>\n",
       "      <td>39</td>\n",
       "    </tr>\n",
       "    <tr>\n",
       "      <th>5</th>\n",
       "      <td>Mark</td>\n",
       "      <td>45</td>\n",
       "    </tr>\n",
       "  </tbody>\n",
       "</table>\n",
       "</div>"
      ],
      "text/plain": [
       "  StudentName  Score\n",
       "1         Ali     65\n",
       "2         Bob     76\n",
       "3        John     44\n",
       "4       Johny     39\n",
       "5        Mark     45"
      ]
     },
     "execution_count": 16,
     "metadata": {},
     "output_type": "execute_result"
    }
   ],
   "source": [
    "df"
   ]
  },
  {
   "cell_type": "code",
   "execution_count": 17,
   "id": "e843b21c",
   "metadata": {},
   "outputs": [
    {
     "data": {
      "text/html": [
       "<div>\n",
       "<style scoped>\n",
       "    .dataframe tbody tr th:only-of-type {\n",
       "        vertical-align: middle;\n",
       "    }\n",
       "\n",
       "    .dataframe tbody tr th {\n",
       "        vertical-align: top;\n",
       "    }\n",
       "\n",
       "    .dataframe thead th {\n",
       "        text-align: right;\n",
       "    }\n",
       "</style>\n",
       "<table border=\"1\" class=\"dataframe\">\n",
       "  <thead>\n",
       "    <tr style=\"text-align: right;\">\n",
       "      <th></th>\n",
       "      <th>First Name</th>\n",
       "      <th>Gender</th>\n",
       "      <th>Salary</th>\n",
       "      <th>Team</th>\n",
       "      <th>Bonus</th>\n",
       "      <th>Senior Management</th>\n",
       "    </tr>\n",
       "  </thead>\n",
       "  <tbody>\n",
       "    <tr>\n",
       "      <th>0</th>\n",
       "      <td>John</td>\n",
       "      <td>Male</td>\n",
       "      <td>50000.0</td>\n",
       "      <td>Marketing</td>\n",
       "      <td>1000</td>\n",
       "      <td>Yes</td>\n",
       "    </tr>\n",
       "    <tr>\n",
       "      <th>1</th>\n",
       "      <td>Jane</td>\n",
       "      <td>Female</td>\n",
       "      <td>60000.0</td>\n",
       "      <td>Sales</td>\n",
       "      <td>2000</td>\n",
       "      <td>No</td>\n",
       "    </tr>\n",
       "    <tr>\n",
       "      <th>2</th>\n",
       "      <td>Bob</td>\n",
       "      <td>Male</td>\n",
       "      <td>0.0</td>\n",
       "      <td>Engineering</td>\n",
       "      <td>0</td>\n",
       "      <td>Yes</td>\n",
       "    </tr>\n",
       "    <tr>\n",
       "      <th>3</th>\n",
       "      <td>Alice</td>\n",
       "      <td>Female</td>\n",
       "      <td>75000.0</td>\n",
       "      <td>123</td>\n",
       "      <td>1500</td>\n",
       "      <td>No</td>\n",
       "    </tr>\n",
       "    <tr>\n",
       "      <th>4</th>\n",
       "      <td>Charlie</td>\n",
       "      <td>Male</td>\n",
       "      <td>80000.0</td>\n",
       "      <td>Finance</td>\n",
       "      <td>*</td>\n",
       "      <td>Yes</td>\n",
       "    </tr>\n",
       "    <tr>\n",
       "      <th>5</th>\n",
       "      <td>Eva</td>\n",
       "      <td>Female</td>\n",
       "      <td>NaN</td>\n",
       "      <td>Human Resources</td>\n",
       "      <td>1200</td>\n",
       "      <td>No</td>\n",
       "    </tr>\n",
       "    <tr>\n",
       "      <th>6</th>\n",
       "      <td>David</td>\n",
       "      <td>Male</td>\n",
       "      <td>55000.0</td>\n",
       "      <td>Operations</td>\n",
       "      <td>1800</td>\n",
       "      <td>Yes</td>\n",
       "    </tr>\n",
       "    <tr>\n",
       "      <th>7</th>\n",
       "      <td>Sophia</td>\n",
       "      <td>Female</td>\n",
       "      <td>0.0</td>\n",
       "      <td>NaN</td>\n",
       "      <td>0</td>\n",
       "      <td>No</td>\n",
       "    </tr>\n",
       "    <tr>\n",
       "      <th>8</th>\n",
       "      <td>Michael</td>\n",
       "      <td>Male</td>\n",
       "      <td>70000.0</td>\n",
       "      <td>Research and Development</td>\n",
       "      <td>NaN</td>\n",
       "      <td>Yes</td>\n",
       "    </tr>\n",
       "    <tr>\n",
       "      <th>9</th>\n",
       "      <td>Olivia</td>\n",
       "      <td>Female</td>\n",
       "      <td>65000.0</td>\n",
       "      <td>0</td>\n",
       "      <td>2000</td>\n",
       "      <td>No</td>\n",
       "    </tr>\n",
       "  </tbody>\n",
       "</table>\n",
       "</div>"
      ],
      "text/plain": [
       "  First Name  Gender   Salary                      Team Bonus  \\\n",
       "0       John    Male  50000.0                 Marketing  1000   \n",
       "1       Jane  Female  60000.0                     Sales  2000   \n",
       "2        Bob    Male      0.0               Engineering     0   \n",
       "3      Alice  Female  75000.0                       123  1500   \n",
       "4    Charlie    Male  80000.0                   Finance     *   \n",
       "5        Eva  Female      NaN           Human Resources  1200   \n",
       "6      David    Male  55000.0                Operations  1800   \n",
       "7     Sophia  Female      0.0                       NaN     0   \n",
       "8    Michael    Male  70000.0  Research and Development   NaN   \n",
       "9     Olivia  Female  65000.0                         0  2000   \n",
       "\n",
       "  Senior Management  \n",
       "0               Yes  \n",
       "1                No  \n",
       "2               Yes  \n",
       "3                No  \n",
       "4               Yes  \n",
       "5                No  \n",
       "6               Yes  \n",
       "7                No  \n",
       "8               Yes  \n",
       "9                No  "
      ]
     },
     "execution_count": 17,
     "metadata": {},
     "output_type": "execute_result"
    }
   ],
   "source": [
    "df = pd.read_csv('C:\\\\Users\\\\harsh\\\\OneDrive - New Zealand Skills & Education Group\\\\Desktop\\\\NZSE Desktop\\\\GDDA708\\\\datacleaning.csv')\n",
    "df"
   ]
  },
  {
   "cell_type": "code",
   "execution_count": 18,
   "id": "8c5a9073",
   "metadata": {},
   "outputs": [
    {
     "name": "stdout",
     "output_type": "stream",
     "text": [
      "Salary\n",
      "0.0        2\n",
      "50000.0    1\n",
      "60000.0    1\n",
      "75000.0    1\n",
      "80000.0    1\n",
      "55000.0    1\n",
      "70000.0    1\n",
      "65000.0    1\n",
      "Name: count, dtype: int64\n"
     ]
    }
   ],
   "source": [
    "name_counts1 = df['Salary'].value_counts()\n",
    "print(name_counts1)"
   ]
  },
  {
   "cell_type": "code",
   "execution_count": 19,
   "id": "526f26bc",
   "metadata": {},
   "outputs": [
    {
     "name": "stdout",
     "output_type": "stream",
     "text": [
      "Team\n",
      "Marketing                   1\n",
      "Sales                       1\n",
      "Engineering                 1\n",
      "123                         1\n",
      "Finance                     1\n",
      "Human Resources             1\n",
      "Operations                  1\n",
      "Research and Development    1\n",
      "0                           1\n",
      "Name: count, dtype: int64\n"
     ]
    }
   ],
   "source": [
    "name_counts2 = df['Team'].value_counts()\n",
    "print(name_counts2)"
   ]
  },
  {
   "cell_type": "code",
   "execution_count": 20,
   "id": "3c883302",
   "metadata": {},
   "outputs": [
    {
     "name": "stdout",
     "output_type": "stream",
     "text": [
      "Bonus\n",
      "2000    2\n",
      "0       2\n",
      "1000    1\n",
      "1500    1\n",
      "*       1\n",
      "1200    1\n",
      "1800    1\n",
      "Name: count, dtype: int64\n"
     ]
    }
   ],
   "source": [
    "name_counts3 = df['Bonus'].value_counts()\n",
    "print(name_counts3)"
   ]
  },
  {
   "cell_type": "code",
   "execution_count": 21,
   "id": "699a2504",
   "metadata": {},
   "outputs": [
    {
     "data": {
      "text/plain": [
       "First Name           0\n",
       "Gender               0\n",
       "Salary               1\n",
       "Team                 1\n",
       "Bonus                1\n",
       "Senior Management    0\n",
       "dtype: int64"
      ]
     },
     "execution_count": 21,
     "metadata": {},
     "output_type": "execute_result"
    }
   ],
   "source": [
    "df.isnull().sum()"
   ]
  },
  {
   "cell_type": "code",
   "execution_count": 22,
   "id": "8c869e45",
   "metadata": {},
   "outputs": [],
   "source": [
    "missing_values = [\"n/a\", \"na\", \"--\", \"*\", 0]"
   ]
  },
  {
   "cell_type": "code",
   "execution_count": 23,
   "id": "98040617",
   "metadata": {},
   "outputs": [],
   "source": [
    "df = pd.read_csv(\"C:\\\\Users\\\\harsh\\\\OneDrive - New Zealand Skills & Education Group\\\\Desktop\\\\NZSE Desktop\\\\GDDA708\\\\datacleaning.csv\", na_values = missing_values)"
   ]
  },
  {
   "cell_type": "code",
   "execution_count": 24,
   "id": "618c2415",
   "metadata": {},
   "outputs": [
    {
     "data": {
      "text/plain": [
       "First Name           0\n",
       "Gender               0\n",
       "Salary               3\n",
       "Team                 2\n",
       "Bonus                4\n",
       "Senior Management    0\n",
       "dtype: int64"
      ]
     },
     "execution_count": 24,
     "metadata": {},
     "output_type": "execute_result"
    }
   ],
   "source": [
    "df.isnull().sum()"
   ]
  },
  {
   "cell_type": "code",
   "execution_count": 25,
   "id": "a60795cd",
   "metadata": {},
   "outputs": [
    {
     "data": {
      "text/html": [
       "<div>\n",
       "<style scoped>\n",
       "    .dataframe tbody tr th:only-of-type {\n",
       "        vertical-align: middle;\n",
       "    }\n",
       "\n",
       "    .dataframe tbody tr th {\n",
       "        vertical-align: top;\n",
       "    }\n",
       "\n",
       "    .dataframe thead th {\n",
       "        text-align: right;\n",
       "    }\n",
       "</style>\n",
       "<table border=\"1\" class=\"dataframe\">\n",
       "  <thead>\n",
       "    <tr style=\"text-align: right;\">\n",
       "      <th></th>\n",
       "      <th>First Name</th>\n",
       "      <th>Gender</th>\n",
       "      <th>Salary</th>\n",
       "      <th>Team</th>\n",
       "      <th>Bonus</th>\n",
       "      <th>Senior Management</th>\n",
       "    </tr>\n",
       "  </thead>\n",
       "  <tbody>\n",
       "    <tr>\n",
       "      <th>0</th>\n",
       "      <td>John</td>\n",
       "      <td>Male</td>\n",
       "      <td>50000.0</td>\n",
       "      <td>Marketing</td>\n",
       "      <td>1000.0</td>\n",
       "      <td>Yes</td>\n",
       "    </tr>\n",
       "    <tr>\n",
       "      <th>1</th>\n",
       "      <td>Jane</td>\n",
       "      <td>Female</td>\n",
       "      <td>60000.0</td>\n",
       "      <td>Sales</td>\n",
       "      <td>2000.0</td>\n",
       "      <td>No</td>\n",
       "    </tr>\n",
       "    <tr>\n",
       "      <th>2</th>\n",
       "      <td>Bob</td>\n",
       "      <td>Male</td>\n",
       "      <td>NaN</td>\n",
       "      <td>Engineering</td>\n",
       "      <td>NaN</td>\n",
       "      <td>Yes</td>\n",
       "    </tr>\n",
       "    <tr>\n",
       "      <th>3</th>\n",
       "      <td>Alice</td>\n",
       "      <td>Female</td>\n",
       "      <td>75000.0</td>\n",
       "      <td>123</td>\n",
       "      <td>1500.0</td>\n",
       "      <td>No</td>\n",
       "    </tr>\n",
       "    <tr>\n",
       "      <th>4</th>\n",
       "      <td>Charlie</td>\n",
       "      <td>Male</td>\n",
       "      <td>80000.0</td>\n",
       "      <td>Finance</td>\n",
       "      <td>NaN</td>\n",
       "      <td>Yes</td>\n",
       "    </tr>\n",
       "    <tr>\n",
       "      <th>5</th>\n",
       "      <td>Eva</td>\n",
       "      <td>Female</td>\n",
       "      <td>NaN</td>\n",
       "      <td>Human Resources</td>\n",
       "      <td>1200.0</td>\n",
       "      <td>No</td>\n",
       "    </tr>\n",
       "    <tr>\n",
       "      <th>6</th>\n",
       "      <td>David</td>\n",
       "      <td>Male</td>\n",
       "      <td>55000.0</td>\n",
       "      <td>Operations</td>\n",
       "      <td>1800.0</td>\n",
       "      <td>Yes</td>\n",
       "    </tr>\n",
       "    <tr>\n",
       "      <th>7</th>\n",
       "      <td>Sophia</td>\n",
       "      <td>Female</td>\n",
       "      <td>NaN</td>\n",
       "      <td>NaN</td>\n",
       "      <td>NaN</td>\n",
       "      <td>No</td>\n",
       "    </tr>\n",
       "    <tr>\n",
       "      <th>8</th>\n",
       "      <td>Michael</td>\n",
       "      <td>Male</td>\n",
       "      <td>70000.0</td>\n",
       "      <td>Research and Development</td>\n",
       "      <td>NaN</td>\n",
       "      <td>Yes</td>\n",
       "    </tr>\n",
       "    <tr>\n",
       "      <th>9</th>\n",
       "      <td>Olivia</td>\n",
       "      <td>Female</td>\n",
       "      <td>65000.0</td>\n",
       "      <td>NaN</td>\n",
       "      <td>2000.0</td>\n",
       "      <td>No</td>\n",
       "    </tr>\n",
       "  </tbody>\n",
       "</table>\n",
       "</div>"
      ],
      "text/plain": [
       "  First Name  Gender   Salary                      Team   Bonus  \\\n",
       "0       John    Male  50000.0                 Marketing  1000.0   \n",
       "1       Jane  Female  60000.0                     Sales  2000.0   \n",
       "2        Bob    Male      NaN               Engineering     NaN   \n",
       "3      Alice  Female  75000.0                       123  1500.0   \n",
       "4    Charlie    Male  80000.0                   Finance     NaN   \n",
       "5        Eva  Female      NaN           Human Resources  1200.0   \n",
       "6      David    Male  55000.0                Operations  1800.0   \n",
       "7     Sophia  Female      NaN                       NaN     NaN   \n",
       "8    Michael    Male  70000.0  Research and Development     NaN   \n",
       "9     Olivia  Female  65000.0                       NaN  2000.0   \n",
       "\n",
       "  Senior Management  \n",
       "0               Yes  \n",
       "1                No  \n",
       "2               Yes  \n",
       "3                No  \n",
       "4               Yes  \n",
       "5                No  \n",
       "6               Yes  \n",
       "7                No  \n",
       "8               Yes  \n",
       "9                No  "
      ]
     },
     "execution_count": 25,
     "metadata": {},
     "output_type": "execute_result"
    }
   ],
   "source": [
    "df"
   ]
  },
  {
   "cell_type": "code",
   "execution_count": 26,
   "id": "4abef5fd",
   "metadata": {},
   "outputs": [],
   "source": [
    "avg_sal = df['Salary'].mean()"
   ]
  },
  {
   "cell_type": "code",
   "execution_count": 27,
   "id": "baae3cb4",
   "metadata": {},
   "outputs": [],
   "source": [
    "df['Salary'].fillna(55000, inplace=True)"
   ]
  },
  {
   "cell_type": "code",
   "execution_count": 28,
   "id": "6993b58b",
   "metadata": {},
   "outputs": [
    {
     "data": {
      "text/plain": [
       "0    50000.0\n",
       "1    60000.0\n",
       "2    55000.0\n",
       "3    75000.0\n",
       "4    80000.0\n",
       "5    55000.0\n",
       "6    55000.0\n",
       "7    55000.0\n",
       "8    70000.0\n",
       "9    65000.0\n",
       "Name: Salary, dtype: float64"
      ]
     },
     "execution_count": 28,
     "metadata": {},
     "output_type": "execute_result"
    }
   ],
   "source": [
    "df['Salary']"
   ]
  },
  {
   "cell_type": "code",
   "execution_count": 29,
   "id": "8f7ef91e",
   "metadata": {},
   "outputs": [
    {
     "data": {
      "text/plain": [
       "First Name           0\n",
       "Gender               0\n",
       "Salary               0\n",
       "Team                 2\n",
       "Bonus                4\n",
       "Senior Management    0\n",
       "dtype: int64"
      ]
     },
     "execution_count": 29,
     "metadata": {},
     "output_type": "execute_result"
    }
   ],
   "source": [
    "df.isnull().sum()"
   ]
  },
  {
   "cell_type": "code",
   "execution_count": 30,
   "id": "167dd7ae",
   "metadata": {},
   "outputs": [
    {
     "data": {
      "text/plain": [
       "Team\n",
       "Marketing                   1\n",
       "Sales                       1\n",
       "Engineering                 1\n",
       "123                         1\n",
       "Finance                     1\n",
       "Human Resources             1\n",
       "Operations                  1\n",
       "Research and Development    1\n",
       "Name: count, dtype: int64"
      ]
     },
     "execution_count": 30,
     "metadata": {},
     "output_type": "execute_result"
    }
   ],
   "source": [
    "df['Team'].value_counts()"
   ]
  },
  {
   "cell_type": "code",
   "execution_count": 31,
   "id": "d8e4c02b",
   "metadata": {},
   "outputs": [],
   "source": [
    "df['Team'].fillna('Marketing', inplace=True)"
   ]
  },
  {
   "cell_type": "code",
   "execution_count": 32,
   "id": "b26ac72c",
   "metadata": {},
   "outputs": [
    {
     "data": {
      "text/plain": [
       "First Name           0\n",
       "Gender               0\n",
       "Salary               0\n",
       "Team                 0\n",
       "Bonus                4\n",
       "Senior Management    0\n",
       "dtype: int64"
      ]
     },
     "execution_count": 32,
     "metadata": {},
     "output_type": "execute_result"
    }
   ],
   "source": [
    "df.isnull().sum()"
   ]
  },
  {
   "cell_type": "code",
   "execution_count": 33,
   "id": "dc58d375",
   "metadata": {},
   "outputs": [],
   "source": [
    "df.dropna(inplace=True)"
   ]
  },
  {
   "cell_type": "code",
   "execution_count": 34,
   "id": "107c28d9",
   "metadata": {},
   "outputs": [
    {
     "data": {
      "text/plain": [
       "First Name           0\n",
       "Gender               0\n",
       "Salary               0\n",
       "Team                 0\n",
       "Bonus                0\n",
       "Senior Management    0\n",
       "dtype: int64"
      ]
     },
     "execution_count": 34,
     "metadata": {},
     "output_type": "execute_result"
    }
   ],
   "source": [
    "df.isnull().sum()"
   ]
  },
  {
   "cell_type": "code",
   "execution_count": 35,
   "id": "0e447e72",
   "metadata": {},
   "outputs": [
    {
     "data": {
      "text/html": [
       "<div>\n",
       "<style scoped>\n",
       "    .dataframe tbody tr th:only-of-type {\n",
       "        vertical-align: middle;\n",
       "    }\n",
       "\n",
       "    .dataframe tbody tr th {\n",
       "        vertical-align: top;\n",
       "    }\n",
       "\n",
       "    .dataframe thead th {\n",
       "        text-align: right;\n",
       "    }\n",
       "</style>\n",
       "<table border=\"1\" class=\"dataframe\">\n",
       "  <thead>\n",
       "    <tr style=\"text-align: right;\">\n",
       "      <th></th>\n",
       "      <th>First Name</th>\n",
       "      <th>Gender</th>\n",
       "      <th>Salary</th>\n",
       "      <th>Team</th>\n",
       "      <th>Bonus</th>\n",
       "      <th>Senior Management</th>\n",
       "    </tr>\n",
       "  </thead>\n",
       "  <tbody>\n",
       "    <tr>\n",
       "      <th>1</th>\n",
       "      <td>Jane</td>\n",
       "      <td>Female</td>\n",
       "      <td>60000.0</td>\n",
       "      <td>Sales</td>\n",
       "      <td>2000.0</td>\n",
       "      <td>No</td>\n",
       "    </tr>\n",
       "    <tr>\n",
       "      <th>3</th>\n",
       "      <td>Alice</td>\n",
       "      <td>Female</td>\n",
       "      <td>75000.0</td>\n",
       "      <td>123</td>\n",
       "      <td>1500.0</td>\n",
       "      <td>No</td>\n",
       "    </tr>\n",
       "    <tr>\n",
       "      <th>5</th>\n",
       "      <td>Eva</td>\n",
       "      <td>Female</td>\n",
       "      <td>55000.0</td>\n",
       "      <td>Human Resources</td>\n",
       "      <td>1200.0</td>\n",
       "      <td>No</td>\n",
       "    </tr>\n",
       "    <tr>\n",
       "      <th>6</th>\n",
       "      <td>David</td>\n",
       "      <td>Male</td>\n",
       "      <td>55000.0</td>\n",
       "      <td>Operations</td>\n",
       "      <td>1800.0</td>\n",
       "      <td>Yes</td>\n",
       "    </tr>\n",
       "    <tr>\n",
       "      <th>9</th>\n",
       "      <td>Olivia</td>\n",
       "      <td>Female</td>\n",
       "      <td>65000.0</td>\n",
       "      <td>Marketing</td>\n",
       "      <td>2000.0</td>\n",
       "      <td>No</td>\n",
       "    </tr>\n",
       "  </tbody>\n",
       "</table>\n",
       "</div>"
      ],
      "text/plain": [
       "  First Name  Gender   Salary             Team   Bonus Senior Management\n",
       "1       Jane  Female  60000.0            Sales  2000.0                No\n",
       "3      Alice  Female  75000.0              123  1500.0                No\n",
       "5        Eva  Female  55000.0  Human Resources  1200.0                No\n",
       "6      David    Male  55000.0       Operations  1800.0               Yes\n",
       "9     Olivia  Female  65000.0        Marketing  2000.0                No"
      ]
     },
     "execution_count": 35,
     "metadata": {},
     "output_type": "execute_result"
    }
   ],
   "source": [
    "df.tail()"
   ]
  },
  {
   "cell_type": "code",
   "execution_count": 36,
   "id": "d14acc28",
   "metadata": {},
   "outputs": [
    {
     "data": {
      "text/html": [
       "<div>\n",
       "<style scoped>\n",
       "    .dataframe tbody tr th:only-of-type {\n",
       "        vertical-align: middle;\n",
       "    }\n",
       "\n",
       "    .dataframe tbody tr th {\n",
       "        vertical-align: top;\n",
       "    }\n",
       "\n",
       "    .dataframe thead th {\n",
       "        text-align: right;\n",
       "    }\n",
       "</style>\n",
       "<table border=\"1\" class=\"dataframe\">\n",
       "  <thead>\n",
       "    <tr style=\"text-align: right;\">\n",
       "      <th></th>\n",
       "      <th>First Name</th>\n",
       "      <th>Gender</th>\n",
       "      <th>Salary</th>\n",
       "      <th>Team</th>\n",
       "      <th>Bonus</th>\n",
       "      <th>Senior Management</th>\n",
       "    </tr>\n",
       "  </thead>\n",
       "  <tbody>\n",
       "    <tr>\n",
       "      <th>0</th>\n",
       "      <td>John</td>\n",
       "      <td>Male</td>\n",
       "      <td>50000.0</td>\n",
       "      <td>Marketing</td>\n",
       "      <td>1000.0</td>\n",
       "      <td>Yes</td>\n",
       "    </tr>\n",
       "    <tr>\n",
       "      <th>1</th>\n",
       "      <td>Jane</td>\n",
       "      <td>Female</td>\n",
       "      <td>60000.0</td>\n",
       "      <td>Sales</td>\n",
       "      <td>2000.0</td>\n",
       "      <td>No</td>\n",
       "    </tr>\n",
       "    <tr>\n",
       "      <th>3</th>\n",
       "      <td>Alice</td>\n",
       "      <td>Female</td>\n",
       "      <td>75000.0</td>\n",
       "      <td>123</td>\n",
       "      <td>1500.0</td>\n",
       "      <td>No</td>\n",
       "    </tr>\n",
       "    <tr>\n",
       "      <th>5</th>\n",
       "      <td>Eva</td>\n",
       "      <td>Female</td>\n",
       "      <td>55000.0</td>\n",
       "      <td>Human Resources</td>\n",
       "      <td>1200.0</td>\n",
       "      <td>No</td>\n",
       "    </tr>\n",
       "    <tr>\n",
       "      <th>6</th>\n",
       "      <td>David</td>\n",
       "      <td>Male</td>\n",
       "      <td>55000.0</td>\n",
       "      <td>Operations</td>\n",
       "      <td>1800.0</td>\n",
       "      <td>Yes</td>\n",
       "    </tr>\n",
       "  </tbody>\n",
       "</table>\n",
       "</div>"
      ],
      "text/plain": [
       "  First Name  Gender   Salary             Team   Bonus Senior Management\n",
       "0       John    Male  50000.0        Marketing  1000.0               Yes\n",
       "1       Jane  Female  60000.0            Sales  2000.0                No\n",
       "3      Alice  Female  75000.0              123  1500.0                No\n",
       "5        Eva  Female  55000.0  Human Resources  1200.0                No\n",
       "6      David    Male  55000.0       Operations  1800.0               Yes"
      ]
     },
     "execution_count": 36,
     "metadata": {},
     "output_type": "execute_result"
    }
   ],
   "source": [
    "df.head()"
   ]
  },
  {
   "cell_type": "code",
   "execution_count": 37,
   "id": "086635a7",
   "metadata": {},
   "outputs": [],
   "source": [
    "#df.replace({'?': np.nan, '--': np.nan, '$': ''}, inplace=True)\n",
    "df['Team'].replace({'123':'Marketing'}, inplace=True)"
   ]
  },
  {
   "cell_type": "code",
   "execution_count": 38,
   "id": "d8828ca0",
   "metadata": {},
   "outputs": [
    {
     "data": {
      "text/html": [
       "<div>\n",
       "<style scoped>\n",
       "    .dataframe tbody tr th:only-of-type {\n",
       "        vertical-align: middle;\n",
       "    }\n",
       "\n",
       "    .dataframe tbody tr th {\n",
       "        vertical-align: top;\n",
       "    }\n",
       "\n",
       "    .dataframe thead th {\n",
       "        text-align: right;\n",
       "    }\n",
       "</style>\n",
       "<table border=\"1\" class=\"dataframe\">\n",
       "  <thead>\n",
       "    <tr style=\"text-align: right;\">\n",
       "      <th></th>\n",
       "      <th>First Name</th>\n",
       "      <th>Gender</th>\n",
       "      <th>Salary</th>\n",
       "      <th>Team</th>\n",
       "      <th>Bonus</th>\n",
       "      <th>Senior Management</th>\n",
       "    </tr>\n",
       "  </thead>\n",
       "  <tbody>\n",
       "    <tr>\n",
       "      <th>0</th>\n",
       "      <td>John</td>\n",
       "      <td>Male</td>\n",
       "      <td>50000.0</td>\n",
       "      <td>Marketing</td>\n",
       "      <td>1000.0</td>\n",
       "      <td>Yes</td>\n",
       "    </tr>\n",
       "    <tr>\n",
       "      <th>1</th>\n",
       "      <td>Jane</td>\n",
       "      <td>Female</td>\n",
       "      <td>60000.0</td>\n",
       "      <td>Sales</td>\n",
       "      <td>2000.0</td>\n",
       "      <td>No</td>\n",
       "    </tr>\n",
       "    <tr>\n",
       "      <th>3</th>\n",
       "      <td>Alice</td>\n",
       "      <td>Female</td>\n",
       "      <td>75000.0</td>\n",
       "      <td>Marketing</td>\n",
       "      <td>1500.0</td>\n",
       "      <td>No</td>\n",
       "    </tr>\n",
       "    <tr>\n",
       "      <th>5</th>\n",
       "      <td>Eva</td>\n",
       "      <td>Female</td>\n",
       "      <td>55000.0</td>\n",
       "      <td>Human Resources</td>\n",
       "      <td>1200.0</td>\n",
       "      <td>No</td>\n",
       "    </tr>\n",
       "    <tr>\n",
       "      <th>6</th>\n",
       "      <td>David</td>\n",
       "      <td>Male</td>\n",
       "      <td>55000.0</td>\n",
       "      <td>Operations</td>\n",
       "      <td>1800.0</td>\n",
       "      <td>Yes</td>\n",
       "    </tr>\n",
       "    <tr>\n",
       "      <th>9</th>\n",
       "      <td>Olivia</td>\n",
       "      <td>Female</td>\n",
       "      <td>65000.0</td>\n",
       "      <td>Marketing</td>\n",
       "      <td>2000.0</td>\n",
       "      <td>No</td>\n",
       "    </tr>\n",
       "  </tbody>\n",
       "</table>\n",
       "</div>"
      ],
      "text/plain": [
       "  First Name  Gender   Salary             Team   Bonus Senior Management\n",
       "0       John    Male  50000.0        Marketing  1000.0               Yes\n",
       "1       Jane  Female  60000.0            Sales  2000.0                No\n",
       "3      Alice  Female  75000.0        Marketing  1500.0                No\n",
       "5        Eva  Female  55000.0  Human Resources  1200.0                No\n",
       "6      David    Male  55000.0       Operations  1800.0               Yes\n",
       "9     Olivia  Female  65000.0        Marketing  2000.0                No"
      ]
     },
     "execution_count": 38,
     "metadata": {},
     "output_type": "execute_result"
    }
   ],
   "source": [
    "df"
   ]
  },
  {
   "cell_type": "code",
   "execution_count": 39,
   "id": "697424dd",
   "metadata": {},
   "outputs": [
    {
     "data": {
      "text/plain": [
       "array([1, 3, 0, 2])"
      ]
     },
     "execution_count": 39,
     "metadata": {},
     "output_type": "execute_result"
    }
   ],
   "source": [
    "# Import label encoder \n",
    "from sklearn import preprocessing \n",
    "\n",
    "# label_encoder object knows \n",
    "# how to understand word labels. \n",
    "label_encoder = preprocessing.LabelEncoder() \n",
    "\n",
    "# Encode labels in column 'species'. \n",
    "df['Team']= label_encoder.fit_transform(df['Team']) \n",
    "\n",
    "df['Team'].unique() \n"
   ]
  },
  {
   "cell_type": "code",
   "execution_count": 40,
   "id": "4cf27463",
   "metadata": {},
   "outputs": [
    {
     "data": {
      "text/html": [
       "<div>\n",
       "<style scoped>\n",
       "    .dataframe tbody tr th:only-of-type {\n",
       "        vertical-align: middle;\n",
       "    }\n",
       "\n",
       "    .dataframe tbody tr th {\n",
       "        vertical-align: top;\n",
       "    }\n",
       "\n",
       "    .dataframe thead th {\n",
       "        text-align: right;\n",
       "    }\n",
       "</style>\n",
       "<table border=\"1\" class=\"dataframe\">\n",
       "  <thead>\n",
       "    <tr style=\"text-align: right;\">\n",
       "      <th></th>\n",
       "      <th>First Name</th>\n",
       "      <th>Gender</th>\n",
       "      <th>Salary</th>\n",
       "      <th>Team</th>\n",
       "      <th>Bonus</th>\n",
       "      <th>Senior Management</th>\n",
       "    </tr>\n",
       "  </thead>\n",
       "  <tbody>\n",
       "    <tr>\n",
       "      <th>0</th>\n",
       "      <td>John</td>\n",
       "      <td>Male</td>\n",
       "      <td>50000.0</td>\n",
       "      <td>1</td>\n",
       "      <td>1000.0</td>\n",
       "      <td>Yes</td>\n",
       "    </tr>\n",
       "    <tr>\n",
       "      <th>1</th>\n",
       "      <td>Jane</td>\n",
       "      <td>Female</td>\n",
       "      <td>60000.0</td>\n",
       "      <td>3</td>\n",
       "      <td>2000.0</td>\n",
       "      <td>No</td>\n",
       "    </tr>\n",
       "    <tr>\n",
       "      <th>3</th>\n",
       "      <td>Alice</td>\n",
       "      <td>Female</td>\n",
       "      <td>75000.0</td>\n",
       "      <td>1</td>\n",
       "      <td>1500.0</td>\n",
       "      <td>No</td>\n",
       "    </tr>\n",
       "    <tr>\n",
       "      <th>5</th>\n",
       "      <td>Eva</td>\n",
       "      <td>Female</td>\n",
       "      <td>55000.0</td>\n",
       "      <td>0</td>\n",
       "      <td>1200.0</td>\n",
       "      <td>No</td>\n",
       "    </tr>\n",
       "    <tr>\n",
       "      <th>6</th>\n",
       "      <td>David</td>\n",
       "      <td>Male</td>\n",
       "      <td>55000.0</td>\n",
       "      <td>2</td>\n",
       "      <td>1800.0</td>\n",
       "      <td>Yes</td>\n",
       "    </tr>\n",
       "    <tr>\n",
       "      <th>9</th>\n",
       "      <td>Olivia</td>\n",
       "      <td>Female</td>\n",
       "      <td>65000.0</td>\n",
       "      <td>1</td>\n",
       "      <td>2000.0</td>\n",
       "      <td>No</td>\n",
       "    </tr>\n",
       "  </tbody>\n",
       "</table>\n",
       "</div>"
      ],
      "text/plain": [
       "  First Name  Gender   Salary  Team   Bonus Senior Management\n",
       "0       John    Male  50000.0     1  1000.0               Yes\n",
       "1       Jane  Female  60000.0     3  2000.0                No\n",
       "3      Alice  Female  75000.0     1  1500.0                No\n",
       "5        Eva  Female  55000.0     0  1200.0                No\n",
       "6      David    Male  55000.0     2  1800.0               Yes\n",
       "9     Olivia  Female  65000.0     1  2000.0                No"
      ]
     },
     "execution_count": 40,
     "metadata": {},
     "output_type": "execute_result"
    }
   ],
   "source": [
    "df"
   ]
  },
  {
   "cell_type": "code",
   "execution_count": 41,
   "id": "261fc37b",
   "metadata": {},
   "outputs": [
    {
     "data": {
      "text/plain": [
       "array([1, 0])"
      ]
     },
     "execution_count": 41,
     "metadata": {},
     "output_type": "execute_result"
    }
   ],
   "source": [
    "df['Gender']= label_encoder.fit_transform(df['Gender']) \n",
    "\n",
    "df['Gender'].unique() \n"
   ]
  },
  {
   "cell_type": "code",
   "execution_count": 42,
   "id": "2f1f43a2",
   "metadata": {},
   "outputs": [
    {
     "data": {
      "text/html": [
       "<div>\n",
       "<style scoped>\n",
       "    .dataframe tbody tr th:only-of-type {\n",
       "        vertical-align: middle;\n",
       "    }\n",
       "\n",
       "    .dataframe tbody tr th {\n",
       "        vertical-align: top;\n",
       "    }\n",
       "\n",
       "    .dataframe thead th {\n",
       "        text-align: right;\n",
       "    }\n",
       "</style>\n",
       "<table border=\"1\" class=\"dataframe\">\n",
       "  <thead>\n",
       "    <tr style=\"text-align: right;\">\n",
       "      <th></th>\n",
       "      <th>First Name</th>\n",
       "      <th>Gender</th>\n",
       "      <th>Salary</th>\n",
       "      <th>Team</th>\n",
       "      <th>Bonus</th>\n",
       "      <th>Senior Management</th>\n",
       "    </tr>\n",
       "  </thead>\n",
       "  <tbody>\n",
       "    <tr>\n",
       "      <th>0</th>\n",
       "      <td>John</td>\n",
       "      <td>1</td>\n",
       "      <td>50000.0</td>\n",
       "      <td>1</td>\n",
       "      <td>1000.0</td>\n",
       "      <td>Yes</td>\n",
       "    </tr>\n",
       "    <tr>\n",
       "      <th>1</th>\n",
       "      <td>Jane</td>\n",
       "      <td>0</td>\n",
       "      <td>60000.0</td>\n",
       "      <td>3</td>\n",
       "      <td>2000.0</td>\n",
       "      <td>No</td>\n",
       "    </tr>\n",
       "    <tr>\n",
       "      <th>3</th>\n",
       "      <td>Alice</td>\n",
       "      <td>0</td>\n",
       "      <td>75000.0</td>\n",
       "      <td>1</td>\n",
       "      <td>1500.0</td>\n",
       "      <td>No</td>\n",
       "    </tr>\n",
       "    <tr>\n",
       "      <th>5</th>\n",
       "      <td>Eva</td>\n",
       "      <td>0</td>\n",
       "      <td>55000.0</td>\n",
       "      <td>0</td>\n",
       "      <td>1200.0</td>\n",
       "      <td>No</td>\n",
       "    </tr>\n",
       "    <tr>\n",
       "      <th>6</th>\n",
       "      <td>David</td>\n",
       "      <td>1</td>\n",
       "      <td>55000.0</td>\n",
       "      <td>2</td>\n",
       "      <td>1800.0</td>\n",
       "      <td>Yes</td>\n",
       "    </tr>\n",
       "    <tr>\n",
       "      <th>9</th>\n",
       "      <td>Olivia</td>\n",
       "      <td>0</td>\n",
       "      <td>65000.0</td>\n",
       "      <td>1</td>\n",
       "      <td>2000.0</td>\n",
       "      <td>No</td>\n",
       "    </tr>\n",
       "  </tbody>\n",
       "</table>\n",
       "</div>"
      ],
      "text/plain": [
       "  First Name  Gender   Salary  Team   Bonus Senior Management\n",
       "0       John       1  50000.0     1  1000.0               Yes\n",
       "1       Jane       0  60000.0     3  2000.0                No\n",
       "3      Alice       0  75000.0     1  1500.0                No\n",
       "5        Eva       0  55000.0     0  1200.0                No\n",
       "6      David       1  55000.0     2  1800.0               Yes\n",
       "9     Olivia       0  65000.0     1  2000.0                No"
      ]
     },
     "execution_count": 42,
     "metadata": {},
     "output_type": "execute_result"
    }
   ],
   "source": [
    "df"
   ]
  },
  {
   "cell_type": "code",
   "execution_count": 43,
   "id": "772b35e5",
   "metadata": {},
   "outputs": [
    {
     "data": {
      "text/plain": [
       "array([1, 0])"
      ]
     },
     "execution_count": 43,
     "metadata": {},
     "output_type": "execute_result"
    }
   ],
   "source": [
    "df['Senior Management']= label_encoder.fit_transform(df['Senior Management']) \n",
    "\n",
    "df['Senior Management'].unique() \n"
   ]
  },
  {
   "cell_type": "code",
   "execution_count": 44,
   "id": "3964f1e2",
   "metadata": {},
   "outputs": [
    {
     "data": {
      "text/html": [
       "<div>\n",
       "<style scoped>\n",
       "    .dataframe tbody tr th:only-of-type {\n",
       "        vertical-align: middle;\n",
       "    }\n",
       "\n",
       "    .dataframe tbody tr th {\n",
       "        vertical-align: top;\n",
       "    }\n",
       "\n",
       "    .dataframe thead th {\n",
       "        text-align: right;\n",
       "    }\n",
       "</style>\n",
       "<table border=\"1\" class=\"dataframe\">\n",
       "  <thead>\n",
       "    <tr style=\"text-align: right;\">\n",
       "      <th></th>\n",
       "      <th>First Name</th>\n",
       "      <th>Gender</th>\n",
       "      <th>Salary</th>\n",
       "      <th>Team</th>\n",
       "      <th>Bonus</th>\n",
       "      <th>Senior Management</th>\n",
       "    </tr>\n",
       "  </thead>\n",
       "  <tbody>\n",
       "    <tr>\n",
       "      <th>0</th>\n",
       "      <td>John</td>\n",
       "      <td>1</td>\n",
       "      <td>50000.0</td>\n",
       "      <td>1</td>\n",
       "      <td>1000.0</td>\n",
       "      <td>1</td>\n",
       "    </tr>\n",
       "    <tr>\n",
       "      <th>1</th>\n",
       "      <td>Jane</td>\n",
       "      <td>0</td>\n",
       "      <td>60000.0</td>\n",
       "      <td>3</td>\n",
       "      <td>2000.0</td>\n",
       "      <td>0</td>\n",
       "    </tr>\n",
       "    <tr>\n",
       "      <th>3</th>\n",
       "      <td>Alice</td>\n",
       "      <td>0</td>\n",
       "      <td>75000.0</td>\n",
       "      <td>1</td>\n",
       "      <td>1500.0</td>\n",
       "      <td>0</td>\n",
       "    </tr>\n",
       "    <tr>\n",
       "      <th>5</th>\n",
       "      <td>Eva</td>\n",
       "      <td>0</td>\n",
       "      <td>55000.0</td>\n",
       "      <td>0</td>\n",
       "      <td>1200.0</td>\n",
       "      <td>0</td>\n",
       "    </tr>\n",
       "    <tr>\n",
       "      <th>6</th>\n",
       "      <td>David</td>\n",
       "      <td>1</td>\n",
       "      <td>55000.0</td>\n",
       "      <td>2</td>\n",
       "      <td>1800.0</td>\n",
       "      <td>1</td>\n",
       "    </tr>\n",
       "    <tr>\n",
       "      <th>9</th>\n",
       "      <td>Olivia</td>\n",
       "      <td>0</td>\n",
       "      <td>65000.0</td>\n",
       "      <td>1</td>\n",
       "      <td>2000.0</td>\n",
       "      <td>0</td>\n",
       "    </tr>\n",
       "  </tbody>\n",
       "</table>\n",
       "</div>"
      ],
      "text/plain": [
       "  First Name  Gender   Salary  Team   Bonus  Senior Management\n",
       "0       John       1  50000.0     1  1000.0                  1\n",
       "1       Jane       0  60000.0     3  2000.0                  0\n",
       "3      Alice       0  75000.0     1  1500.0                  0\n",
       "5        Eva       0  55000.0     0  1200.0                  0\n",
       "6      David       1  55000.0     2  1800.0                  1\n",
       "9     Olivia       0  65000.0     1  2000.0                  0"
      ]
     },
     "execution_count": 44,
     "metadata": {},
     "output_type": "execute_result"
    }
   ],
   "source": [
    "df"
   ]
  },
  {
   "cell_type": "code",
   "execution_count": 45,
   "id": "b504e300",
   "metadata": {},
   "outputs": [
    {
     "name": "stdout",
     "output_type": "stream",
     "text": [
      "<class 'pandas.core.frame.DataFrame'>\n",
      "Index: 6 entries, 0 to 9\n",
      "Data columns (total 6 columns):\n",
      " #   Column             Non-Null Count  Dtype  \n",
      "---  ------             --------------  -----  \n",
      " 0   First Name         6 non-null      object \n",
      " 1   Gender             6 non-null      int32  \n",
      " 2   Salary             6 non-null      float64\n",
      " 3   Team               6 non-null      int32  \n",
      " 4   Bonus              6 non-null      float64\n",
      " 5   Senior Management  6 non-null      int32  \n",
      "dtypes: float64(2), int32(3), object(1)\n",
      "memory usage: 264.0+ bytes\n"
     ]
    }
   ],
   "source": [
    "df.info()"
   ]
  },
  {
   "cell_type": "code",
   "execution_count": 46,
   "id": "3e6a5a38",
   "metadata": {},
   "outputs": [
    {
     "data": {
      "text/plain": [
       "First Name           0\n",
       "Gender               0\n",
       "Salary               0\n",
       "Team                 0\n",
       "Bonus                0\n",
       "Senior Management    0\n",
       "dtype: int64"
      ]
     },
     "execution_count": 46,
     "metadata": {},
     "output_type": "execute_result"
    }
   ],
   "source": [
    "df.isnull().sum()"
   ]
  },
  {
   "cell_type": "code",
   "execution_count": 47,
   "id": "7440314a",
   "metadata": {},
   "outputs": [
    {
     "data": {
      "text/html": [
       "<div>\n",
       "<style scoped>\n",
       "    .dataframe tbody tr th:only-of-type {\n",
       "        vertical-align: middle;\n",
       "    }\n",
       "\n",
       "    .dataframe tbody tr th {\n",
       "        vertical-align: top;\n",
       "    }\n",
       "\n",
       "    .dataframe thead th {\n",
       "        text-align: right;\n",
       "    }\n",
       "</style>\n",
       "<table border=\"1\" class=\"dataframe\">\n",
       "  <thead>\n",
       "    <tr style=\"text-align: right;\">\n",
       "      <th></th>\n",
       "      <th>First Name</th>\n",
       "      <th>Gender</th>\n",
       "      <th>Salary</th>\n",
       "      <th>Team</th>\n",
       "      <th>Bonus</th>\n",
       "      <th>Senior Management</th>\n",
       "    </tr>\n",
       "  </thead>\n",
       "  <tbody>\n",
       "    <tr>\n",
       "      <th>1</th>\n",
       "      <td>Jane</td>\n",
       "      <td>0</td>\n",
       "      <td>60000.0</td>\n",
       "      <td>3</td>\n",
       "      <td>2000.0</td>\n",
       "      <td>0</td>\n",
       "    </tr>\n",
       "    <tr>\n",
       "      <th>3</th>\n",
       "      <td>Alice</td>\n",
       "      <td>0</td>\n",
       "      <td>75000.0</td>\n",
       "      <td>1</td>\n",
       "      <td>1500.0</td>\n",
       "      <td>0</td>\n",
       "    </tr>\n",
       "    <tr>\n",
       "      <th>5</th>\n",
       "      <td>Eva</td>\n",
       "      <td>0</td>\n",
       "      <td>55000.0</td>\n",
       "      <td>0</td>\n",
       "      <td>1200.0</td>\n",
       "      <td>0</td>\n",
       "    </tr>\n",
       "    <tr>\n",
       "      <th>6</th>\n",
       "      <td>David</td>\n",
       "      <td>1</td>\n",
       "      <td>55000.0</td>\n",
       "      <td>2</td>\n",
       "      <td>1800.0</td>\n",
       "      <td>1</td>\n",
       "    </tr>\n",
       "    <tr>\n",
       "      <th>9</th>\n",
       "      <td>Olivia</td>\n",
       "      <td>0</td>\n",
       "      <td>65000.0</td>\n",
       "      <td>1</td>\n",
       "      <td>2000.0</td>\n",
       "      <td>0</td>\n",
       "    </tr>\n",
       "  </tbody>\n",
       "</table>\n",
       "</div>"
      ],
      "text/plain": [
       "  First Name  Gender   Salary  Team   Bonus  Senior Management\n",
       "1       Jane       0  60000.0     3  2000.0                  0\n",
       "3      Alice       0  75000.0     1  1500.0                  0\n",
       "5        Eva       0  55000.0     0  1200.0                  0\n",
       "6      David       1  55000.0     2  1800.0                  1\n",
       "9     Olivia       0  65000.0     1  2000.0                  0"
      ]
     },
     "execution_count": 47,
     "metadata": {},
     "output_type": "execute_result"
    }
   ],
   "source": [
    "df.tail()"
   ]
  },
  {
   "cell_type": "code",
   "execution_count": 48,
   "id": "3ce75ecd",
   "metadata": {},
   "outputs": [],
   "source": [
    "import pandas as pd\n",
    "import numpy as np\n",
    "import matplotlib.pyplot as plt"
   ]
  },
  {
   "cell_type": "code",
   "execution_count": 49,
   "id": "7e3f4fab",
   "metadata": {},
   "outputs": [],
   "source": [
    "plt.rcParams['figure.figsize'] = [5, 5]"
   ]
  },
  {
   "cell_type": "code",
   "execution_count": 50,
   "id": "70e69c28",
   "metadata": {},
   "outputs": [
    {
     "data": {
      "text/html": [
       "<div>\n",
       "<style scoped>\n",
       "    .dataframe tbody tr th:only-of-type {\n",
       "        vertical-align: middle;\n",
       "    }\n",
       "\n",
       "    .dataframe tbody tr th {\n",
       "        vertical-align: top;\n",
       "    }\n",
       "\n",
       "    .dataframe thead th {\n",
       "        text-align: right;\n",
       "    }\n",
       "</style>\n",
       "<table border=\"1\" class=\"dataframe\">\n",
       "  <thead>\n",
       "    <tr style=\"text-align: right;\">\n",
       "      <th></th>\n",
       "      <th>col 1</th>\n",
       "      <th>col 2</th>\n",
       "      <th>col 3</th>\n",
       "      <th>col 4</th>\n",
       "    </tr>\n",
       "  </thead>\n",
       "  <tbody>\n",
       "    <tr>\n",
       "      <th>0</th>\n",
       "      <td>4.0</td>\n",
       "      <td>8.0</td>\n",
       "      <td>3</td>\n",
       "      <td>NaN</td>\n",
       "    </tr>\n",
       "    <tr>\n",
       "      <th>1</th>\n",
       "      <td>NaN</td>\n",
       "      <td>7.0</td>\n",
       "      <td>1</td>\n",
       "      <td>3.0</td>\n",
       "    </tr>\n",
       "    <tr>\n",
       "      <th>2</th>\n",
       "      <td>4.0</td>\n",
       "      <td>3.0</td>\n",
       "      <td>9</td>\n",
       "      <td>9.0</td>\n",
       "    </tr>\n",
       "    <tr>\n",
       "      <th>3</th>\n",
       "      <td>6.0</td>\n",
       "      <td>NaN</td>\n",
       "      <td>2</td>\n",
       "      <td>5.0</td>\n",
       "    </tr>\n",
       "    <tr>\n",
       "      <th>4</th>\n",
       "      <td>9.0</td>\n",
       "      <td>1.0</td>\n",
       "      <td>2</td>\n",
       "      <td>2.0</td>\n",
       "    </tr>\n",
       "    <tr>\n",
       "      <th>5</th>\n",
       "      <td>4.0</td>\n",
       "      <td>NaN</td>\n",
       "      <td>5</td>\n",
       "      <td>4.0</td>\n",
       "    </tr>\n",
       "    <tr>\n",
       "      <th>6</th>\n",
       "      <td>7.0</td>\n",
       "      <td>9.0</td>\n",
       "      <td>2</td>\n",
       "      <td>2.0</td>\n",
       "    </tr>\n",
       "    <tr>\n",
       "      <th>7</th>\n",
       "      <td>6.0</td>\n",
       "      <td>3.0</td>\n",
       "      <td>8</td>\n",
       "      <td>9.0</td>\n",
       "    </tr>\n",
       "    <tr>\n",
       "      <th>8</th>\n",
       "      <td>4.0</td>\n",
       "      <td>6.0</td>\n",
       "      <td>9</td>\n",
       "      <td>NaN</td>\n",
       "    </tr>\n",
       "    <tr>\n",
       "      <th>9</th>\n",
       "      <td>7.0</td>\n",
       "      <td>2.0</td>\n",
       "      <td>1</td>\n",
       "      <td>NaN</td>\n",
       "    </tr>\n",
       "    <tr>\n",
       "      <th>10</th>\n",
       "      <td>2.0</td>\n",
       "      <td>5.0</td>\n",
       "      <td>4</td>\n",
       "      <td>3.0</td>\n",
       "    </tr>\n",
       "    <tr>\n",
       "      <th>11</th>\n",
       "      <td>7.0</td>\n",
       "      <td>7.0</td>\n",
       "      <td>5</td>\n",
       "      <td>NaN</td>\n",
       "    </tr>\n",
       "    <tr>\n",
       "      <th>12</th>\n",
       "      <td>2.0</td>\n",
       "      <td>NaN</td>\n",
       "      <td>5</td>\n",
       "      <td>NaN</td>\n",
       "    </tr>\n",
       "    <tr>\n",
       "      <th>13</th>\n",
       "      <td>6.0</td>\n",
       "      <td>9.0</td>\n",
       "      <td>8</td>\n",
       "      <td>4.0</td>\n",
       "    </tr>\n",
       "    <tr>\n",
       "      <th>14</th>\n",
       "      <td>9.0</td>\n",
       "      <td>4.0</td>\n",
       "      <td>9</td>\n",
       "      <td>NaN</td>\n",
       "    </tr>\n",
       "  </tbody>\n",
       "</table>\n",
       "</div>"
      ],
      "text/plain": [
       "    col 1  col 2  col 3  col 4\n",
       "0     4.0    8.0      3    NaN\n",
       "1     NaN    7.0      1    3.0\n",
       "2     4.0    3.0      9    9.0\n",
       "3     6.0    NaN      2    5.0\n",
       "4     9.0    1.0      2    2.0\n",
       "5     4.0    NaN      5    4.0\n",
       "6     7.0    9.0      2    2.0\n",
       "7     6.0    3.0      8    9.0\n",
       "8     4.0    6.0      9    NaN\n",
       "9     7.0    2.0      1    NaN\n",
       "10    2.0    5.0      4    3.0\n",
       "11    7.0    7.0      5    NaN\n",
       "12    2.0    NaN      5    NaN\n",
       "13    6.0    9.0      8    4.0\n",
       "14    9.0    4.0      9    NaN"
      ]
     },
     "execution_count": 50,
     "metadata": {},
     "output_type": "execute_result"
    }
   ],
   "source": [
    "n = float(\"nan\")\n",
    "df = pd.DataFrame(\n",
    "    {\n",
    "        \"col 1\": [4, n, 4, 6, 9, 4, 7, 6, 4, 7, 2, 7, 2, 6, 9],\n",
    "        \"col 2\": [8, 7, 3, n, 1, n, 9, 3, 6, 2, 5, 7, n, 9, 4],\n",
    "        \"col 3\": [3, 1, 9, 2, 2, 5, 2, 8, 9, 1, 4, 5, 5, 8, 9],\n",
    "        \"col 4\": [n, 3, 9, 5, 2, 4, 2, 9, n, n, 3, n, n, 4, n]\n",
    "    }\n",
    ")\n",
    "\n",
    "df"
   ]
  },
  {
   "cell_type": "code",
   "execution_count": 53,
   "id": "b59ab1ed",
   "metadata": {},
   "outputs": [
    {
     "data": {
      "image/png": "[encoded data removed]",
      "text/plain": [
       "<Figure size 400x400 with 3 Axes>"
      ]
     },
     "metadata": {},
     "output_type": "display_data"
    }
   ],
   "source": [
    "import pandas as pd\n",
    "import matplotlib\n",
    "import matplotlib.pyplot as plt\n",
    "import missingno\n",
    "missingno.bar(df, figsize=(4,4), fontsize=10);\n"
   ]
  },
  {
   "cell_type": "code",
   "execution_count": 54,
   "id": "1365f9fa",
   "metadata": {},
   "outputs": [
    {
     "data": {
      "image/png": "[encoded data removed]",
      "text/plain": [
       "<Figure size 400x400 with 3 Axes>"
      ]
     },
     "metadata": {},
     "output_type": "display_data"
    }
   ],
   "source": [
    "missingno.bar(df, color=\"blue\", sort=\"ascending\", figsize=(4,4), fontsize=10);\n"
   ]
  },
  {
   "cell_type": "code",
   "execution_count": 55,
   "id": "fd953ec5",
   "metadata": {},
   "outputs": [
    {
     "data": {
      "image/png": "[encoded data removed]",
      "text/plain": [
       "<Figure size 500x500 with 2 Axes>"
      ]
     },
     "metadata": {},
     "output_type": "display_data"
    }
   ],
   "source": [
    "missingno.matrix(df,figsize=(5,5), fontsize=10);\n"
   ]
  },
  {
   "cell_type": "code",
   "execution_count": 56,
   "id": "ad8f8f98",
   "metadata": {},
   "outputs": [
    {
     "data": {
      "text/plain": [
       "col 1    1\n",
       "col 2    3\n",
       "col 3    0\n",
       "col 4    6\n",
       "dtype: int64"
      ]
     },
     "execution_count": 56,
     "metadata": {},
     "output_type": "execute_result"
    }
   ],
   "source": [
    "df.isnull().sum()"
   ]
  },
  {
   "cell_type": "code",
   "execution_count": 57,
   "id": "196d0483",
   "metadata": {},
   "outputs": [],
   "source": [
    "df.dropna(inplace = True)"
   ]
  },
  {
   "cell_type": "code",
   "execution_count": 58,
   "id": "2a28cf22",
   "metadata": {},
   "outputs": [
    {
     "data": {
      "image/png": "[encoded data removed]",
      "text/plain": [
       "<Figure size 300x300 with 2 Axes>"
      ]
     },
     "metadata": {},
     "output_type": "display_data"
    }
   ],
   "source": [
    "missingno.matrix(df,figsize=(3,3), fontsize=10);\n"
   ]
  },
  {
   "cell_type": "code",
   "execution_count": 1,
   "id": "ca9e6313",
   "metadata": {},
   "outputs": [
    {
     "name": "stdout",
     "output_type": "stream",
     "text": [
      "T-statistic: -3.1539448982270804\n",
      "P-value: 0.007036246938338629\n",
      "Reject the null hypothesis. There is a significant impact of school programs.\n"
     ]
    }
   ],
   "source": [
    "import scipy.stats as stats\n",
    "\n",
    "# Sample data\n",
    "before_programs = [3, 4, 5, 4, 4, 3, 3, 5, 3, 3, 4, 4, 3, 3, 4]\n",
    "after_programs = [4, 5, 5, 5, 5, 4, 3, 5, 5, 3, 5, 5, 4, 3, 3]\n",
    "\n",
    "# Paired t-test\n",
    "t_statistic, p_value = stats.ttest_rel(before_programs, after_programs)\n",
    "\n",
    "# Result\n",
    "print(f'T-statistic: {t_statistic}\\nP-value: {p_value}')\n",
    "\n",
    "# Interpretation\n",
    "alpha = 0.05\n",
    "if p_value < alpha:\n",
    "    print(\"Reject the null hypothesis. There is a significant impact of school programs.\")\n",
    "else:\n",
    "    print(\"Fail to reject the null hypothesis. No significant impact of school programs.\")\n"
   ]
  },
  {
   "cell_type": "code",
   "execution_count": 67,
   "id": "c9bf45bc",
   "metadata": {},
   "outputs": [
    {
     "name": "stdout",
     "output_type": "stream",
     "text": [
      "     Product Region  Sales\n",
      "3  Product D   West   9000\n",
      "1  Product B  South   5000\n",
      "0  Product A  North  10000\n",
      "2  Product C   East   7000\n",
      "4  Product A   East   5000\n"
     ]
    }
   ],
   "source": [
    "import pandas as pd\n",
    "\n",
    "# create a sample DataFrame\n",
    "data = {'Product': ['Product A', 'Product B', 'Product C', 'Product D', 'Product A'],\n",
    "        'Region': ['North', 'South', 'East', 'West', 'East'],\n",
    "        'Sales': [10000, 5000, 7000, 9000, 5000]}\n",
    "\n",
    "df = pd.DataFrame(data)\n",
    "\n",
    "# sort the DataFrame by sales in descending order\n",
    "sorted_df = df.sort_values(by='Region', ascending=False)\n",
    "\n",
    "print(sorted_df)"
   ]
  },
  {
   "cell_type": "code",
   "execution_count": 78,
   "id": "e7b5c217",
   "metadata": {},
   "outputs": [
    {
     "name": "stdout",
     "output_type": "stream",
     "text": [
      "                                                   0\n",
      "0                                          Product A\n",
      "1       Product Region  Sales\n",
      "0  Product A  North...\n",
      "                                                   0\n",
      "0                                          Product B\n",
      "1       Product Region  Sales\n",
      "1  Product B  South...\n",
      "                                                   0\n",
      "0                                          Product C\n",
      "1       Product Region  Sales\n",
      "2  Product C   East...\n",
      "                                                   0\n",
      "0                                          Product D\n",
      "1       Product Region  Sales\n",
      "3  Product D   West...\n"
     ]
    }
   ],
   "source": [
    "grouped = df.groupby('Product')\n",
    "grouped\n",
    "for group in grouped:\n",
    "    print(pd.DataFrame(group))"
   ]
  },
  {
   "cell_type": "code",
   "execution_count": 6,
   "id": "ef0e1397",
   "metadata": {},
   "outputs": [
    {
     "name": "stdout",
     "output_type": "stream",
     "text": [
      "A\n",
      "  Group  Value\n",
      "0     A     10\n",
      "1     A     20\n",
      "B\n",
      "  Group  Value\n",
      "2     B     30\n",
      "3     B     40\n",
      "4     B     50\n",
      "C\n",
      "  Group  Value\n",
      "5     C     60\n",
      "6     C     70\n"
     ]
    }
   ],
   "source": [
    "import pandas as pd\n",
    "\n",
    "# Create a sample DataFrame\n",
    "df = pd.DataFrame({\n",
    "    'Group': ['A', 'A', 'B', 'B', 'B', 'C', 'C'],\n",
    "    'Value': [10, 20, 30, 40, 50, 60, 70]\n",
    "})\n",
    "\n",
    "# Sort the DataFrame by Group and Value\n",
    "df_sorted = df.sort_values(['Group', 'Value'])\n",
    "\n",
    "# Group the sorted DataFrame by Group\n",
    "grouped = df_sorted.groupby('Group')\n",
    "\n",
    "# Print each group\n",
    "for group, data in grouped:\n",
    "    print(group)\n",
    "    print(data)"
   ]
  },
  {
   "cell_type": "code",
   "execution_count": 58,
   "id": "0f7d0f7b",
   "metadata": {},
   "outputs": [
    {
     "name": "stdout",
     "output_type": "stream",
     "text": [
      "A\n",
      "  Team  Value\n",
      "1    A     20\n",
      "0    A     10\n",
      "B\n",
      "  Team  Value\n",
      "4    B     50\n",
      "3    B     40\n",
      "2    B     30\n",
      "C\n",
      "  Team  Value\n",
      "6    C     70\n",
      "5    C     60\n"
     ]
    }
   ],
   "source": [
    "import pandas as pd\n",
    "\n",
    "# Create a sample DataFrame\n",
    "df = pd.DataFrame({\n",
    "    'Team': ['A', 'A', 'B', 'B', 'B', 'C', 'C'],\n",
    "    'Value': [10, 20, 30, 40, 50, 60, 70]\n",
    "})\n",
    "\n",
    "# Sort the DataFrame by Group and Value in descending order\n",
    "df_sorted = df.sort_values(['Team', 'Value'], ascending=[True, False])\n",
    "\n",
    "# Group the sorted DataFrame by Group\n",
    "grouped = df_sorted.groupby('Team')\n",
    "\n",
    "# Print each group\n",
    "for group, data in grouped:\n",
    "    print(group)\n",
    "    print(data)"
   ]
  },
  {
   "cell_type": "code",
   "execution_count": 8,
   "id": "44a7953d",
   "metadata": {},
   "outputs": [
    {
     "name": "stdout",
     "output_type": "stream",
     "text": [
      "Given Dataframe :\n",
      "         Name  Age    Stream  Percentage\n",
      "0      Ankit   22      Math          90\n",
      "1    Swapnil   20  Commerce          90\n",
      "2  Aishwarya   21   Science          96\n",
      "3   Priyanka   19      Math          75\n",
      "4   Shivangi   18      Math          70\n",
      "5    Shaurya   22   Science          80\n"
     ]
    }
   ],
   "source": [
    "# importing pandas \n",
    "import pandas as pd \n",
    "\n",
    "# declare a dictionary\n",
    "record = { \n",
    "\n",
    "'Name' : ['Ankit', 'Swapnil', 'Aishwarya', \n",
    "\t\t'Priyanka', 'Shivangi', 'Shaurya' ],\n",
    "\n",
    "'Age' : [22, 20, 21, 19, 18, 22], \n",
    "\n",
    "'Stream' : ['Math', 'Commerce', 'Science', \n",
    "\t\t\t'Math', 'Math', 'Science'], \n",
    "\n",
    "'Percentage' : [90, 90, 96, 75, 70, 80] } \n",
    "\n",
    "# create a dataframe \n",
    "dataframe = pd.DataFrame(record,\n",
    "\t\t\t\t\t\tcolumns = ['Name', 'Age', \n",
    "\t\t\t\t\t\t\t\t\t'Stream', 'Percentage']) \n",
    "# show the Dataframe\n",
    "print(\"Given Dataframe :\\n\", dataframe)\n"
   ]
  },
  {
   "cell_type": "code",
   "execution_count": 65,
   "id": "79d5f66b",
   "metadata": {},
   "outputs": [
    {
     "name": "stdout",
     "output_type": "stream",
     "text": [
      "\n",
      "Result dataframe :\n",
      "\n"
     ]
    },
    {
     "data": {
      "text/html": [
       "<div>\n",
       "<style scoped>\n",
       "    .dataframe tbody tr th:only-of-type {\n",
       "        vertical-align: middle;\n",
       "    }\n",
       "\n",
       "    .dataframe tbody tr th {\n",
       "        vertical-align: top;\n",
       "    }\n",
       "\n",
       "    .dataframe thead th {\n",
       "        text-align: right;\n",
       "    }\n",
       "</style>\n",
       "<table border=\"1\" class=\"dataframe\">\n",
       "  <thead>\n",
       "    <tr style=\"text-align: right;\">\n",
       "      <th></th>\n",
       "      <th>Name</th>\n",
       "      <th>Age</th>\n",
       "      <th>Stream</th>\n",
       "      <th>Percentage</th>\n",
       "    </tr>\n",
       "  </thead>\n",
       "  <tbody>\n",
       "    <tr>\n",
       "      <th>4</th>\n",
       "      <td>Shivangi</td>\n",
       "      <td>18</td>\n",
       "      <td>Math</td>\n",
       "      <td>70</td>\n",
       "    </tr>\n",
       "  </tbody>\n",
       "</table>\n",
       "</div>"
      ],
      "text/plain": [
       "       Name  Age Stream  Percentage\n",
       "4  Shivangi   18   Math          70"
      ]
     },
     "execution_count": 65,
     "metadata": {},
     "output_type": "execute_result"
    }
   ],
   "source": [
    "# selecting rows based on condition \n",
    "rslt_df = dataframe[dataframe['Percentage'] < 75] \n",
    "\n",
    "print('\\nResult dataframe :\\n') \n",
    "rslt_df\n"
   ]
  },
  {
   "cell_type": "code",
   "execution_count": 10,
   "id": "ec21fda8",
   "metadata": {},
   "outputs": [
    {
     "name": "stdout",
     "output_type": "stream",
     "text": [
      "\n",
      "Result dataframe :\n",
      "         Name  Age    Stream  Percentage\n",
      "0      Ankit   22      Math          90\n",
      "1    Swapnil   20  Commerce          90\n",
      "2  Aishwarya   21   Science          96\n",
      "3   Priyanka   19      Math          75\n",
      "5    Shaurya   22   Science          80\n"
     ]
    }
   ],
   "source": [
    "# selecting rows based on condition \n",
    "rslt_df = dataframe.loc[dataframe['Percentage'] > 70] \n",
    "\n",
    "print('\\nResult dataframe :\\n', \n",
    "\trslt_df)\n"
   ]
  },
  {
   "cell_type": "code",
   "execution_count": 66,
   "id": "e62db247",
   "metadata": {},
   "outputs": [
    {
     "name": "stdout",
     "output_type": "stream",
     "text": [
      "\n",
      "Result dataframe :\n",
      "\n"
     ]
    },
    {
     "data": {
      "text/html": [
       "<div>\n",
       "<style scoped>\n",
       "    .dataframe tbody tr th:only-of-type {\n",
       "        vertical-align: middle;\n",
       "    }\n",
       "\n",
       "    .dataframe tbody tr th {\n",
       "        vertical-align: top;\n",
       "    }\n",
       "\n",
       "    .dataframe thead th {\n",
       "        text-align: right;\n",
       "    }\n",
       "</style>\n",
       "<table border=\"1\" class=\"dataframe\">\n",
       "  <thead>\n",
       "    <tr style=\"text-align: right;\">\n",
       "      <th></th>\n",
       "      <th>Name</th>\n",
       "      <th>Age</th>\n",
       "      <th>Stream</th>\n",
       "      <th>Percentage</th>\n",
       "    </tr>\n",
       "  </thead>\n",
       "  <tbody>\n",
       "    <tr>\n",
       "      <th>1</th>\n",
       "      <td>Swapnil</td>\n",
       "      <td>20</td>\n",
       "      <td>Commerce</td>\n",
       "      <td>90</td>\n",
       "    </tr>\n",
       "    <tr>\n",
       "      <th>2</th>\n",
       "      <td>Aishwarya</td>\n",
       "      <td>21</td>\n",
       "      <td>Science</td>\n",
       "      <td>96</td>\n",
       "    </tr>\n",
       "    <tr>\n",
       "      <th>5</th>\n",
       "      <td>Shaurya</td>\n",
       "      <td>22</td>\n",
       "      <td>Science</td>\n",
       "      <td>80</td>\n",
       "    </tr>\n",
       "  </tbody>\n",
       "</table>\n",
       "</div>"
      ],
      "text/plain": [
       "        Name  Age    Stream  Percentage\n",
       "1    Swapnil   20  Commerce          90\n",
       "2  Aishwarya   21   Science          96\n",
       "5    Shaurya   22   Science          80"
      ]
     },
     "execution_count": 66,
     "metadata": {},
     "output_type": "execute_result"
    }
   ],
   "source": [
    "options = ['Science', 'Commerce'] \n",
    "\n",
    "# selecting rows based on condition \n",
    "rslt_df = dataframe[dataframe['Stream'].isin(options)] \n",
    "\n",
    "print('\\nResult dataframe :\\n')\n",
    "rslt_df\n"
   ]
  },
  {
   "cell_type": "code",
   "execution_count": 12,
   "id": "0f30bae3",
   "metadata": {},
   "outputs": [
    {
     "name": "stdout",
     "output_type": "stream",
     "text": [
      "\n",
      "Result dataframe :\n",
      "       Name  Age   Stream  Percentage\n",
      "5  Shaurya   22  Science          80\n"
     ]
    }
   ],
   "source": [
    "options = ['Commerce' ,'Science'] \n",
    "\n",
    "# selecting rows based on condition \n",
    "rslt_df = dataframe[(dataframe['Age'] == 22) & \n",
    "\t\tdataframe['Stream'].isin(options)] \n",
    "\n",
    "print('\\nResult dataframe :\\n',\n",
    "\trslt_df)\n"
   ]
  },
  {
   "cell_type": "code",
   "execution_count": 2,
   "id": "d357b615",
   "metadata": {},
   "outputs": [],
   "source": [
    "import pandas as pd\n",
    "import random\n",
    "from datetime import datetime, timedelta\n",
    "\n",
    "# Define the list of New Zealand states and regions\n",
    "states = [\"Auckland\", \"Wellington\", \"Christchurch\", \"Hamilton\", \"Tauranga\", \"Napier-Hastings\", \"Dunedin\", \"Palmerston North\", \"Nelson\", \"Rotorua\", \"New Plymouth\", \"Whangārei\", \"Invercargill\", \"Whanganui\", \"Gisborne\", \"Blenheim\", \"Timaru\", \"Taupo\", \"Masterton\", \"Ashburton\", \"Wanaka\", \"Queenstown\", \"Greymouth\", \"Thames\", \"Westport\", \"Kerikeri\", \"Motueka\", \"Tokoroa\", \"Te Awamutu\", \"Kapiti\", \"Morrinsville\", \"Levin\", \"Picton\", \"Cambridge\", \"Stratford\", \"Huntly\", \"Kaitaia\", \"Waiuku\", \"Wairoa\", \"Te Kuiti\", \"Otorohanga\", \"Dannevirke\", \"Waiheke Island\", \"Martinborough\", \"Waipawa\", \"Kawerau\", \"Opotiki\", \"Feilding\"]\n",
    "regions = [\"Northland\", \"Auckland\", \"Waikato\", \"Bay of Plenty\", \"Taranaki\", \"Gisborne\", \"Hawke's Bay\", \"Manawatu-Whanganui\", \"Wellington\", \"Tasman\", \"Nelson\", \"Marlborough\", \"West Coast\", \"Canterbury\", \"Otago\", \"Southland\"]\n",
    "\n",
    "# Generate 50 random records\n",
    "data = []\n",
    "for _ in range(50):\n",
    "    state = random.choice(states)\n",
    "    region = random.choice(regions)\n",
    "    latitude = round(random.uniform(-90, 90), 6)\n",
    "    longitude = round(random.uniform(-180, 180), 6)\n",
    "    date = (datetime.now() - timedelta(days=random.randint(1, 500))).strftime('%b %d, %Y')\n",
    "    usage = round(random.uniform(1, 100), 2)  # Generating random usage values between 1 and 100 MW\n",
    "    data.append([state, region, latitude, longitude, date, usage])\n",
    "\n",
    "# Create a DataFrame from the generated data\n",
    "df = pd.DataFrame(data, columns=[\"State\", \"Region\", \"Latitude\", \"Longitude\", \"Date\", \"Usage\"])\n",
    "\n",
    "\n",
    "# Save the DataFrame to a CSV file\n",
    "df.to_csv(\"Downloads\\\\newzealand_power_consumption.csv\", index=False)\n"
   ]
  },
  {
   "cell_type": "code",
   "execution_count": 9,
   "id": "8181f212",
   "metadata": {},
   "outputs": [
    {
     "name": "stdout",
     "output_type": "stream",
     "text": [
      "Mean Squared Error: 29504954.01885276\n"
     ]
    }
   ],
   "source": [
    "import pandas as pd\n",
    "from sklearn.model_selection import train_test_split\n",
    "from sklearn.linear_model import LinearRegression\n",
    "from sklearn.metrics import mean_squared_error\n",
    "\n",
    "# Create a DataFrame from the provided data\n",
    "df = pd.read_csv('Downloads\\\\dataset.csv')\n",
    "\n",
    "\n",
    "# Define features (X) and target variable (y)\n",
    "X = df[['Gender', 'Team', 'Bonus', 'Senior Management']]\n",
    "y = df['Salary']\n",
    "\n",
    "# Split the dataset into training and testing sets\n",
    "X_train, X_test, y_train, y_test = train_test_split(X, y, test_size=0.2, random_state=42)\n",
    "\n",
    "# Create and fit the linear regression model\n",
    "model = LinearRegression()\n",
    "model.fit(X_train, y_train)\n",
    "\n",
    "# Make predictions\n",
    "y_pred = model.predict(X_test)\n",
    "\n",
    "# Calculate mean squared error\n",
    "mse = mean_squared_error(y_test, y_pred)\n",
    "print(\"Mean Squared Error:\", mse)\n"
   ]
  },
  {
   "cell_type": "code",
   "execution_count": 11,
   "id": "77e21cd6",
   "metadata": {},
   "outputs": [
    {
     "name": "stdout",
     "output_type": "stream",
     "text": [
      "R-squared: 0.5158161391778009\n"
     ]
    },
    {
     "data": {
      "image/png": "[encoded data removed]",
      "text/plain": [
       "<Figure size 640x480 with 1 Axes>"
      ]
     },
     "metadata": {},
     "output_type": "display_data"
    }
   ],
   "source": [
    "from sklearn.metrics import r2_score\n",
    "import matplotlib.pyplot as plt\n",
    "\n",
    "y_pred = model.predict(X_test)\n",
    "r_squared = r2_score(y_test, y_pred)\n",
    "print(\"R-squared:\", r_squared)\n",
    "\n",
    "# Plot the best fit line\n",
    "plt.scatter(y_test, y_pred)\n",
    "plt.plot([y.min(), y.max()], [y.min(), y.max()], 'k--', lw=2)  # Plot the diagonal line\n",
    "plt.xlabel('Actual Salary')\n",
    "plt.ylabel('Predicted Salary')\n",
    "plt.title('Actual vs Predicted Salary')\n",
    "plt.show()"
   ]
  },
  {
   "cell_type": "code",
   "execution_count": 12,
   "id": "de787635",
   "metadata": {},
   "outputs": [
    {
     "name": "stdout",
     "output_type": "stream",
     "text": [
      "R-squared: 1.0\n"
     ]
    },
    {
     "data": {
      "image/png": "[encoded data removed]",
      "text/plain": [
       "<Figure size 640x480 with 1 Axes>"
      ]
     },
     "metadata": {},
     "output_type": "display_data"
    }
   ],
   "source": [
    "import numpy as np\n",
    "import matplotlib.pyplot as plt\n",
    "from sklearn.tree import DecisionTreeRegressor\n",
    "from sklearn.metrics import r2_score\n",
    "\n",
    "# Assuming df is your DataFrame with columns 'Gender', 'Salary', 'Team', 'Bonus', and 'Senior Management'\n",
    "\n",
    "# Define your features (X) and target variable (y)\n",
    "X = df[['Gender', 'Team', 'Bonus', 'Senior Management']]\n",
    "y = df['Salary']\n",
    "\n",
    "# Create and fit the decision tree regressor model\n",
    "model = DecisionTreeRegressor()\n",
    "model.fit(X, y)\n",
    "\n",
    "# Calculate the R-squared value\n",
    "y_pred = model.predict(X)\n",
    "r_squared = r2_score(y, y_pred)\n",
    "print(\"R-squared:\", r_squared)\n",
    "\n",
    "# Plot the actual vs predicted values\n",
    "plt.scatter(y, y_pred)\n",
    "plt.plot([y.min(), y.max()], [y.min(), y.max()], 'k--', lw=2)  # Plot the diagonal line\n",
    "plt.xlabel('Actual Salary')\n",
    "plt.ylabel('Predicted Salary')\n",
    "plt.title('Actual vs Predicted Salary (Decision Tree Regression)')\n",
    "plt.show()\n"
   ]
  },
  {
   "cell_type": "code",
   "execution_count": 61,
   "id": "1ef3239f",
   "metadata": {},
   "outputs": [
    {
     "name": "stdout",
     "output_type": "stream",
     "text": [
      "Data cleaning completed. Cleaned dataset saved as 'cleaned_data.csv'.\n"
     ]
    }
   ],
   "source": [
    "import pandas as pd\n",
    "import numpy as np\n",
    "from datetime import datetime\n",
    "\n",
    "# Load the dataset\n",
    "data = pd.read_csv('Downloads\\\\data_clean.csv')\n",
    "\n",
    "# 1. Handle Missing Values\n",
    "# Fill missing ages with the mean age\n",
    "data['age'].fillna(data['age'].mean(), inplace=True)\n",
    "\n",
    "# Fill missing salaries with the median salary\n",
    "data['salary'].fillna(data['salary'].median(), inplace=True)\n",
    "\n",
    "# Drop rows with missing email addresses\n",
    "data.dropna(subset=['email'], inplace=True)\n",
    "\n",
    "# Fill missing department with 'Unknown'\n",
    "data['department'].fillna('Unknown', inplace=True)\n",
    "\n",
    "# 2. Correct Data Types\n",
    "data['age'] = data['age'].astype(int)\n",
    "data['salary'] = data['salary'].astype(float)\n",
    "\n",
    "# Standardize join_date to YYYY-MM-DD\n",
    "data['join_date'] = pd.to_datetime(data['join_date'], errors='coerce').dt.strftime('%Y-%m-%d')\n",
    "\n",
    "# 3. Standardize Formats\n",
    "# Correct email formatting\n",
    "data['email'] = data['email'].str.lower()\n",
    "data['email'] = data['email'].str.replace('@@', '@')\n",
    "data['email'] = data['email'].str.replace('.$', '.com')\n",
    "\n",
    "# 4. Remove Duplicates\n",
    "data.drop_duplicates(inplace=True)\n",
    "\n",
    "# 5. Consistent Casing\n",
    "data['gender'] = data['gender'].str.lower()\n",
    "\n",
    "# 6. Outlier Detection and Handling\n",
    "# Example: Remove ages outside a reasonable range (e.g., 18-65)\n",
    "data = data[(data['age'] >= 18) & (data['age'] <= 65)]\n",
    "\n",
    "# 7. Correct Invalid Entries\n",
    "# Ensure email addresses are valid (basic validation)\n",
    "data = data[data['email'].str.contains('@')]\n",
    "\n",
    "# 8. Format Column Names\n",
    "data.columns = data.columns.str.lower().str.replace(' ', '_')\n",
    "\n",
    "# Save the cleaned dataset\n",
    "data.to_csv('Downloads\\\\cleaned_data.csv', index=False)\n",
    "\n",
    "print(\"Data cleaning completed. Cleaned dataset saved as 'cleaned_data.csv'.\")\n"
   ]
  },
  {
   "cell_type": "code",
   "execution_count": 62,
   "id": "bfcf346f-da77-4777-8cda-166b92cc643f",
   "metadata": {},
   "outputs": [
    {
     "name": "stdout",
     "output_type": "stream",
     "text": [
      "First few rows of the dataset:\n",
      "   id           name  age  gender                      email   join_date  \\\n",
      "0   1       John Doe   29    male        johndoe@example.com  2020-02-20   \n",
      "1   2     Jane Smith   35  female      janesmith@example.com  2019-07-15   \n",
      "2   3   Mary Johnson   28  female          maryj@example.com  2021-03-30   \n",
      "3   4  Michael Brown   40    male  michael.brown@example.com  2021-06-20   \n",
      "4   5   James Wilson   42    male   james.wilson@example.com  2021-05-10   \n",
      "\n",
      "   salary   department  \n",
      "0   55000  Engineering  \n",
      "1   72000    Marketing  \n",
      "2   68000        Sales  \n",
      "3   62000           HR  \n",
      "4   75000  Engineering  \n",
      "\n",
      "Summary information of the dataset:\n",
      "<class 'pandas.core.frame.DataFrame'>\n",
      "RangeIndex: 10 entries, 0 to 9\n",
      "Data columns (total 8 columns):\n",
      " #   Column      Non-Null Count  Dtype \n",
      "---  ------      --------------  ----- \n",
      " 0   id          10 non-null     int64 \n",
      " 1   name        10 non-null     object\n",
      " 2   age         10 non-null     int64 \n",
      " 3   gender      10 non-null     object\n",
      " 4   email       10 non-null     object\n",
      " 5   join_date   10 non-null     object\n",
      " 6   salary      10 non-null     int64 \n",
      " 7   department  10 non-null     object\n",
      "dtypes: int64(3), object(5)\n",
      "memory usage: 772.0+ bytes\n",
      "None\n",
      "\n",
      "Basic statistical details:\n",
      "             id        age        salary\n",
      "count  10.00000  10.000000     10.000000\n",
      "mean    5.50000  33.000000  61700.000000\n",
      "std     3.02765   6.036923   9357.706272\n",
      "min     1.00000  25.000000  49000.000000\n",
      "25%     3.25000  28.250000  53500.000000\n",
      "50%     5.50000  32.000000  61000.000000\n",
      "75%     7.75000  38.750000  70250.000000\n",
      "max    10.00000  42.000000  75000.000000\n"
     ]
    },
    {
     "data": {
      "image/png": "[encoded data removed]",
      "text/plain": [
       "<Figure size 1000x600 with 1 Axes>"
      ]
     },
     "metadata": {},
     "output_type": "display_data"
    },
    {
     "name": "stderr",
     "output_type": "stream",
     "text": [
      "C:\\Users\\harsh\\AppData\\Local\\anaconda3\\Lib\\site-packages\\seaborn\\_oldcore.py:1119: FutureWarning: use_inf_as_na option is deprecated and will be removed in a future version. Convert inf values to NaN before operating instead.\n",
      "  with pd.option_context('mode.use_inf_as_na', True):\n"
     ]
    },
    {
     "data": {
      "image/png": "[encoded data removed]",
      "text/plain": [
       "<Figure size 1000x600 with 1 Axes>"
      ]
     },
     "metadata": {},
     "output_type": "display_data"
    },
    {
     "data": {
      "image/png": "[encoded data removed]",
      "text/plain": [
       "<Figure size 1000x600 with 1 Axes>"
      ]
     },
     "metadata": {},
     "output_type": "display_data"
    },
    {
     "name": "stdout",
     "output_type": "stream",
     "text": [
      "Mean salary: 61700.0\n",
      "Median salary: 61000.0\n",
      "Mode salary: 49000\n",
      "Department with highest average salary: Marketing\n",
      "Percentage of male employees: 50.0%\n",
      "Percentage of female employees: 50.0%\n"
     ]
    },
    {
     "ename": "ValueError",
     "evalue": "could not convert string to float: 'John Doe'",
     "output_type": "error",
     "traceback": [
      "\u001b[1;31m---------------------------------------------------------------------------\u001b[0m",
      "\u001b[1;31mValueError\u001b[0m                                Traceback (most recent call last)",
      "Cell \u001b[1;32mIn[62], line 54\u001b[0m\n\u001b[0;32m     51\u001b[0m \u001b[38;5;28mprint\u001b[39m(\u001b[38;5;124mf\u001b[39m\u001b[38;5;124m\"\u001b[39m\u001b[38;5;124mPercentage of female employees: \u001b[39m\u001b[38;5;132;01m{\u001b[39;00mgender_counts[\u001b[38;5;124m'\u001b[39m\u001b[38;5;124mfemale\u001b[39m\u001b[38;5;124m'\u001b[39m]\u001b[38;5;132;01m}\u001b[39;00m\u001b[38;5;124m%\u001b[39m\u001b[38;5;124m\"\u001b[39m)\n\u001b[0;32m     53\u001b[0m \u001b[38;5;66;03m# 4. Correlation Analysis\u001b[39;00m\n\u001b[1;32m---> 54\u001b[0m correlation_matrix \u001b[38;5;241m=\u001b[39m data\u001b[38;5;241m.\u001b[39mcorr()\n\u001b[0;32m     55\u001b[0m \u001b[38;5;28mprint\u001b[39m(\u001b[38;5;124m\"\u001b[39m\u001b[38;5;124mCorrelation matrix:\u001b[39m\u001b[38;5;124m\"\u001b[39m)\n\u001b[0;32m     56\u001b[0m \u001b[38;5;28mprint\u001b[39m(correlation_matrix)\n",
      "File \u001b[1;32m~\\AppData\\Local\\anaconda3\\Lib\\site-packages\\pandas\\core\\frame.py:10704\u001b[0m, in \u001b[0;36mDataFrame.corr\u001b[1;34m(self, method, min_periods, numeric_only)\u001b[0m\n\u001b[0;32m  10702\u001b[0m cols \u001b[38;5;241m=\u001b[39m data\u001b[38;5;241m.\u001b[39mcolumns\n\u001b[0;32m  10703\u001b[0m idx \u001b[38;5;241m=\u001b[39m cols\u001b[38;5;241m.\u001b[39mcopy()\n\u001b[1;32m> 10704\u001b[0m mat \u001b[38;5;241m=\u001b[39m data\u001b[38;5;241m.\u001b[39mto_numpy(dtype\u001b[38;5;241m=\u001b[39m\u001b[38;5;28mfloat\u001b[39m, na_value\u001b[38;5;241m=\u001b[39mnp\u001b[38;5;241m.\u001b[39mnan, copy\u001b[38;5;241m=\u001b[39m\u001b[38;5;28;01mFalse\u001b[39;00m)\n\u001b[0;32m  10706\u001b[0m \u001b[38;5;28;01mif\u001b[39;00m method \u001b[38;5;241m==\u001b[39m \u001b[38;5;124m\"\u001b[39m\u001b[38;5;124mpearson\u001b[39m\u001b[38;5;124m\"\u001b[39m:\n\u001b[0;32m  10707\u001b[0m     correl \u001b[38;5;241m=\u001b[39m libalgos\u001b[38;5;241m.\u001b[39mnancorr(mat, minp\u001b[38;5;241m=\u001b[39mmin_periods)\n",
      "File \u001b[1;32m~\\AppData\\Local\\anaconda3\\Lib\\site-packages\\pandas\\core\\frame.py:1889\u001b[0m, in \u001b[0;36mDataFrame.to_numpy\u001b[1;34m(self, dtype, copy, na_value)\u001b[0m\n\u001b[0;32m   1887\u001b[0m \u001b[38;5;28;01mif\u001b[39;00m dtype \u001b[38;5;129;01mis\u001b[39;00m \u001b[38;5;129;01mnot\u001b[39;00m \u001b[38;5;28;01mNone\u001b[39;00m:\n\u001b[0;32m   1888\u001b[0m     dtype \u001b[38;5;241m=\u001b[39m np\u001b[38;5;241m.\u001b[39mdtype(dtype)\n\u001b[1;32m-> 1889\u001b[0m result \u001b[38;5;241m=\u001b[39m \u001b[38;5;28mself\u001b[39m\u001b[38;5;241m.\u001b[39m_mgr\u001b[38;5;241m.\u001b[39mas_array(dtype\u001b[38;5;241m=\u001b[39mdtype, copy\u001b[38;5;241m=\u001b[39mcopy, na_value\u001b[38;5;241m=\u001b[39mna_value)\n\u001b[0;32m   1890\u001b[0m \u001b[38;5;28;01mif\u001b[39;00m result\u001b[38;5;241m.\u001b[39mdtype \u001b[38;5;129;01mis\u001b[39;00m \u001b[38;5;129;01mnot\u001b[39;00m dtype:\n\u001b[0;32m   1891\u001b[0m     result \u001b[38;5;241m=\u001b[39m np\u001b[38;5;241m.\u001b[39marray(result, dtype\u001b[38;5;241m=\u001b[39mdtype, copy\u001b[38;5;241m=\u001b[39m\u001b[38;5;28;01mFalse\u001b[39;00m)\n",
      "File \u001b[1;32m~\\AppData\\Local\\anaconda3\\Lib\\site-packages\\pandas\\core\\internals\\managers.py:1656\u001b[0m, in \u001b[0;36mBlockManager.as_array\u001b[1;34m(self, dtype, copy, na_value)\u001b[0m\n\u001b[0;32m   1654\u001b[0m         arr\u001b[38;5;241m.\u001b[39mflags\u001b[38;5;241m.\u001b[39mwriteable \u001b[38;5;241m=\u001b[39m \u001b[38;5;28;01mFalse\u001b[39;00m\n\u001b[0;32m   1655\u001b[0m \u001b[38;5;28;01melse\u001b[39;00m:\n\u001b[1;32m-> 1656\u001b[0m     arr \u001b[38;5;241m=\u001b[39m \u001b[38;5;28mself\u001b[39m\u001b[38;5;241m.\u001b[39m_interleave(dtype\u001b[38;5;241m=\u001b[39mdtype, na_value\u001b[38;5;241m=\u001b[39mna_value)\n\u001b[0;32m   1657\u001b[0m     \u001b[38;5;66;03m# The underlying data was copied within _interleave, so no need\u001b[39;00m\n\u001b[0;32m   1658\u001b[0m     \u001b[38;5;66;03m# to further copy if copy=True or setting na_value\u001b[39;00m\n\u001b[0;32m   1660\u001b[0m \u001b[38;5;28;01mif\u001b[39;00m na_value \u001b[38;5;129;01mis\u001b[39;00m lib\u001b[38;5;241m.\u001b[39mno_default:\n",
      "File \u001b[1;32m~\\AppData\\Local\\anaconda3\\Lib\\site-packages\\pandas\\core\\internals\\managers.py:1715\u001b[0m, in \u001b[0;36mBlockManager._interleave\u001b[1;34m(self, dtype, na_value)\u001b[0m\n\u001b[0;32m   1713\u001b[0m     \u001b[38;5;28;01melse\u001b[39;00m:\n\u001b[0;32m   1714\u001b[0m         arr \u001b[38;5;241m=\u001b[39m blk\u001b[38;5;241m.\u001b[39mget_values(dtype)\n\u001b[1;32m-> 1715\u001b[0m     result[rl\u001b[38;5;241m.\u001b[39mindexer] \u001b[38;5;241m=\u001b[39m arr\n\u001b[0;32m   1716\u001b[0m     itemmask[rl\u001b[38;5;241m.\u001b[39mindexer] \u001b[38;5;241m=\u001b[39m \u001b[38;5;241m1\u001b[39m\n\u001b[0;32m   1718\u001b[0m \u001b[38;5;28;01mif\u001b[39;00m \u001b[38;5;129;01mnot\u001b[39;00m itemmask\u001b[38;5;241m.\u001b[39mall():\n",
      "\u001b[1;31mValueError\u001b[0m: could not convert string to float: 'John Doe'"
     ]
    }
   ],
   "source": [
    "import pandas as pd\n",
    "import matplotlib.pyplot as plt\n",
    "import seaborn as sns\n",
    "\n",
    "# Load the dataset\n",
    "data = pd.read_csv('Downloads\\\\eda.csv')\n",
    "\n",
    "# 1. Basic Information\n",
    "print(\"First few rows of the dataset:\")\n",
    "print(data.head())\n",
    "\n",
    "print(\"\\nSummary information of the dataset:\")\n",
    "print(data.info())\n",
    "\n",
    "print(\"\\nBasic statistical details:\")\n",
    "print(data.describe())\n",
    "\n",
    "# 2. Data Visualization\n",
    "# Bar plot for the count of employees in each department\n",
    "plt.figure(figsize=(10, 6))\n",
    "sns.countplot(data=data, x='department')\n",
    "plt.title('Count of Employees in Each Department')\n",
    "plt.show()\n",
    "\n",
    "# Histogram of age distribution\n",
    "plt.figure(figsize=(10, 6))\n",
    "sns.histplot(data['age'], bins=10, kde=True)\n",
    "plt.title('Age Distribution of Employees')\n",
    "plt.show()\n",
    "\n",
    "# Box plot of salary distribution across departments\n",
    "plt.figure(figsize=(10, 6))\n",
    "sns.boxplot(data=data, x='department', y='salary')\n",
    "plt.title('Salary Distribution Across Departments')\n",
    "plt.show()\n",
    "\n",
    "# 3. Descriptive Analysis\n",
    "mean_salary = data['salary'].mean()\n",
    "median_salary = data['salary'].median()\n",
    "mode_salary = data['salary'].mode()[0]\n",
    "\n",
    "print(f\"Mean salary: {mean_salary}\")\n",
    "print(f\"Median salary: {median_salary}\")\n",
    "print(f\"Mode salary: {mode_salary}\")\n",
    "\n",
    "highest_avg_salary_department = data.groupby('department')['salary'].mean().idxmax()\n",
    "print(f\"Department with highest average salary: {highest_avg_salary_department}\")\n",
    "\n",
    "gender_counts = data['gender'].value_counts(normalize=True) * 100\n",
    "print(f\"Percentage of male employees: {gender_counts['male']}%\")\n",
    "print(f\"Percentage of female employees: {gender_counts['female']}%\")\n",
    "\n",
    "# 4. Correlation Analysis\n",
    "correlation_matrix = data.corr()\n",
    "print(\"Correlation matrix:\")\n",
    "print(correlation_matrix)\n",
    "\n",
    "# Heatmap of correlation matrix\n",
    "plt.figure(figsize=(10, 6))\n",
    "sns.heatmap(correlation_matrix, annot=True, cmap='coolwarm')\n",
    "plt.title('Correlation Matrix Heatmap')\n",
    "plt.show()\n",
    "\n",
    "# 5. Trends Over Time\n",
    "# Convert join_date to datetime\n",
    "data['join_date'] = pd.to_datetime(data['join_date'])\n",
    "\n",
    "# Line plot for the trend of employee join dates\n",
    "plt.figure(figsize=(10, 6))\n",
    "data.set_index('join_date')['id'].resample('M').count().plot()\n",
    "plt.title('Trend of Employee Join Dates Over Time')\n",
    "plt.xlabel('Join Date')\n",
    "plt.ylabel('Number of Employees')\n",
    "plt.show()\n",
    "\n",
    "# Seasonal trend analysis\n",
    "data['join_month'] = data['join_date'].dt.month\n",
    "plt.figure(figsize=(10, 6))\n",
    "sns.countplot(data=data, x='join_month')\n",
    "plt.title('Seasonal Trend in Hiring Employees')\n",
    "plt.xlabel('Month')\n",
    "plt.ylabel('Number of Employees')\n",
    "plt.show()\n"
   ]
  },
  {
   "cell_type": "code",
   "execution_count": null,
   "id": "7809b1c5-a1bd-4198-947e-1219d008b66c",
   "metadata": {},
   "outputs": [],
   "source": []
  }
 ],
 "metadata": {
  "kernelspec": {
   "display_name": "Python 3 (ipykernel)",
   "language": "python",
   "name": "python3"
  },
  "language_info": {
   "codemirror_mode": {
    "name": "ipython",
    "version": 3
   },
   "file_extension": ".py",
   "mimetype": "text/x-python",
   "name": "python",
   "nbconvert_exporter": "python",
   "pygments_lexer": "ipython3",
   "version": "3.11.7"
  }
 },
 "nbformat": 4,
 "nbformat_minor": 5
}
